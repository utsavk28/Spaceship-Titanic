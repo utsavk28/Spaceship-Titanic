{
 "cells": [
  {
   "cell_type": "code",
   "execution_count": 3,
   "metadata": {},
   "outputs": [
    {
     "name": "stdout",
     "output_type": "stream",
     "text": [
      "\u001b[32m\u001b[1mStatus\u001b[22m\u001b[39m `C:\\Users\\Utsav\\Utsav\\Development\\Julia\\SpaceshipTitanic\\Project.toml`\n",
      " \u001b[90m [024491cd] \u001b[39mBetaML v0.9.6\n",
      " \u001b[90m [336ed68f] \u001b[39mCSV v0.10.9\n",
      " \u001b[90m [a93c6f00] \u001b[39mDataFrames v1.5.0\n",
      " \u001b[90m [31c24e10] \u001b[39mDistributions v0.25.86\n",
      " \u001b[90m [5789e2e9] \u001b[39mFileIO v1.16.0\n",
      " \u001b[90m [7073ff75] \u001b[39mIJulia v1.24.0\n",
      " \u001b[90m [82e4d734] \u001b[39mImageIO v0.6.6\n",
      " \u001b[90m [6218d12a] \u001b[39mImageMagick v1.2.2\n",
      " \u001b[90m [916415d5] \u001b[39mImages v0.25.2\n",
      " \u001b[90m [add582a8] \u001b[39mMLJ v0.19.1\n",
      " \u001b[90m [c6f25543] \u001b[39mMLJDecisionTreeInterface v0.4.0\n",
      " \u001b[90m [094fc8d1] \u001b[39mMLJFlux v0.2.9\n",
      " \u001b[90m [5ae90465] \u001b[39mMLJScikitLearnInterface v0.3.0\n",
      " \u001b[90m [91a5bcdd] \u001b[39mPlots v1.38.8\n",
      " \u001b[90m [d330b81b] \u001b[39mPyPlot v2.11.1\n",
      " \u001b[90m [321657f4] \u001b[39mScientificTypes v3.0.2\n",
      " \u001b[90m [3646fa90] \u001b[39mScikitLearn v0.7.0\n",
      " \u001b[90m [f3b207a7] \u001b[39mStatsPlots v0.15.4\n",
      " \u001b[90m [239c3e63] \u001b[39mVega v2.3.1\n",
      " \u001b[90m [6385f0a0] \u001b[39mWordCloud v0.10.8\n"
     ]
    }
   ],
   "source": [
    "using Pkg\n",
    "Pkg.status() # Installed Packages"
   ]
  },
  {
   "cell_type": "code",
   "execution_count": 4,
   "metadata": {},
   "outputs": [],
   "source": [
    "# Necessary Imports\n",
    "\n",
    "using Random\n",
    "using CSV\n",
    "using DataFrames\n",
    "using Plots\n",
    "using Plots.PlotMeasures\n",
    "using StatsPlots\n",
    "# using WordCloud\n",
    "using Images, FileIO\n",
    "using Vega\n",
    "using Statistics\n",
    "using MLJ\n",
    "using BetaML\n",
    "# using ScikitLearn\n",
    "# using MLJDecisionTreeInterface"
   ]
  },
  {
   "cell_type": "code",
   "execution_count": 5,
   "metadata": {},
   "outputs": [
    {
     "data": {
      "text/plain": [
       "5-element Vector{String}:\n",
       " \"HomePlanet\"\n",
       " \"CryoSleep\"\n",
       " \"Cabin\"\n",
       " \"Destination\"\n",
       " \"VIP\""
      ]
     },
     "metadata": {},
     "output_type": "display_data"
    }
   ],
   "source": [
    "# Inputs\n",
    "\n",
    "# Unnecessary Columns\n",
    "UNNECESSARY_COLS = [\"PassengerId\",\"Name\"]\n",
    "\n",
    "# Handling Missing Value \n",
    "MISSING_STRATEGY = \"median\"\n",
    "MISSING_COLS = [\"Age\", \"FoodCourt\", \"ShoppingMall\", \"Spa\", \"VRDeck\" ,\"RoomService\"]\n",
    "\n",
    "# Handling Categorical Features\n",
    "CATEGORICAL_COLS = [\"HomePlanet\", \"CryoSleep\",\"Cabin\", \"Destination\" ,\"VIP\"]"
   ]
  },
  {
   "cell_type": "code",
   "execution_count": 6,
   "metadata": {},
   "outputs": [
    {
     "data": {
      "text/plain": [
       "\"../data/sample_submission.csv\""
      ]
     },
     "metadata": {},
     "output_type": "display_data"
    }
   ],
   "source": [
    "# Config\n",
    "\n",
    "BASE_PATH = \"../data\"\n",
    "TRAIN_PATH = \"$BASE_PATH/train.csv\"\n",
    "TEST_PATH = \"$BASE_PATH/test.csv\"\n",
    "SUB_PATH = \"$BASE_PATH/sample_submission.csv\"\n"
   ]
  },
  {
   "cell_type": "code",
   "execution_count": 7,
   "metadata": {},
   "outputs": [
    {
     "name": "stdout",
     "output_type": "stream",
     "text": [
      "Done"
     ]
    }
   ],
   "source": [
    "train = CSV.File(TRAIN_PATH) |> DataFrame\n",
    "test = CSV.File(TEST_PATH) |> DataFrame\n",
    "sub = CSV.File(SUB_PATH) |> DataFrame\n",
    "print(\"Done\")"
   ]
  },
  {
   "cell_type": "code",
   "execution_count": 8,
   "metadata": {},
   "outputs": [
    {
     "data": {
      "text/plain": [
       "data_imputer_strategy (generic function with 1 method)"
      ]
     },
     "metadata": {},
     "output_type": "display_data"
    }
   ],
   "source": [
    "function data_imputer_strategy(strategy)\n",
    "    if (strategy == \"mean\") \n",
    "        return Statistics.mean\n",
    "    elseif(strategy == \"median\")\n",
    "        return Statistics.median\n",
    "    elseif(strategy == \"mode\")\n",
    "        return Statistics.mode\n",
    "    end\n",
    "end"
   ]
  },
  {
   "cell_type": "code",
   "execution_count": 9,
   "metadata": {},
   "outputs": [
    {
     "data": {
      "text/plain": [
       "42"
      ]
     },
     "metadata": {},
     "output_type": "display_data"
    }
   ],
   "source": [
    "TARGET = \"Transported\"\n",
    "MISSING = \"Z\"\n",
    "RANDOM_STATE = 42"
   ]
  },
  {
   "cell_type": "code",
   "execution_count": 10,
   "metadata": {},
   "outputs": [
    {
     "name": "stderr",
     "output_type": "stream",
     "text": [
      "┌ Info: For silent loading, specify `verbosity=0`. \n",
      "└ @ Main C:\\Users\\Utsav\\.julia\\packages\\MLJModels\\OJDDo\\src\\loading.jl:159\n"
     ]
    },
    {
     "name": "stdout",
     "output_type": "stream",
     "text": [
      "import BetaML ✔"
     ]
    },
    {
     "name": "stdout",
     "output_type": "stream",
     "text": [
      "\n",
      "(6954,)(1739,)(4277, 11)(4277, 2)\n",
      "Done!"
     ]
    }
   ],
   "source": [
    "function dropping_unnecessary_cols(X_train,X_test)\n",
    "    for col in UNNECESSARY_COLS \n",
    "        if col in names(X_train)\n",
    "            select!(X_train,Not(col))\n",
    "        end\n",
    "        if col in names(X_test)\n",
    "            select!(X_test,Not(col))\n",
    "        end\n",
    "    end\n",
    "    return X_train,X_test\n",
    "end\n",
    "\n",
    "function missing_value_handler(X_train,X_test,cols)    \n",
    "    other_cols = filter(x -> ~(x in cols),names(X_train))\n",
    "    simple_imputer = @load SimpleImputer pkg=BetaML\n",
    "    imputer = simple_imputer(statistic=data_imputer_strategy(MISSING_STRATEGY))\n",
    "    X_train2 = select(X_train,cols) |> MLJ.matrix\n",
    "    X_test2 = select(X_test,cols) |> MLJ.matrix\n",
    "    (fitResults,_,_) = MLJ.fit(imputer,0,X_train2)\n",
    "    \n",
    "    \n",
    "    X_train_imputed = MLJ.transform(imputer,fitResults,X_train2) |> DataFrame\n",
    "    X_test_imputed = MLJ.transform(imputer,fitResults,X_test2) |> DataFrame\n",
    "    rename!(X_train_imputed,cols)\n",
    "    rename!(X_test_imputed,cols)\n",
    "\n",
    "    # for col in cols \n",
    "    #     X_train[!,col] = X_train_imputed[!,col]\n",
    "    #     X_test[!,col] = X_test_imputed[!,col]\n",
    "    # end\n",
    "    \n",
    "    X_train = DataFrame(hcat(select(X_train,other_cols) |> Matrix, X_train_imputed |> Matrix),:auto)\n",
    "    X_test = DataFrame(hcat(select(X_test,other_cols) |> Matrix, X_test_imputed |> Matrix),:auto)\n",
    "    rename!(X_train,[other_cols...,cols...])\n",
    "    rename!(X_test,[other_cols...,cols...])\n",
    "\n",
    "\n",
    "    X_train[!,cols] = convert.(Float64,X_train_imputed[!,cols])\n",
    "    X_test[!,cols] = convert.(Float64,X_test_imputed[!,cols])\n",
    "\n",
    "    return X_train,X_test\n",
    "end\n",
    "\n",
    "function categorical_feature_handler(X_train,X_test,cols)\n",
    "    for col in cols \n",
    "        X_train[!,col] = replace!(X_train[!,col], missing => MISSING)\n",
    "        X_test[!,col] = replace!(X_test[!,col], missing => MISSING)\n",
    "    end  \n",
    "    return X_train,X_test      \n",
    "end\n",
    "\n",
    "function label_encoding_handler(X_train,X_test,cols) \n",
    "    function gen_label_encoder() \n",
    "        label_encoder = Dict()\n",
    "        for col in cols \n",
    "            col_mapper = Dict()\n",
    "            idx = 0\n",
    "            for val in unique(X_train[!,col])\n",
    "                col_mapper[val] = idx\n",
    "                idx+=1\n",
    "            end\n",
    "            label_encoder[col] = col_mapper\n",
    "        end\n",
    "        label_encoder\n",
    "    end\n",
    "\n",
    "    label_encoder = gen_label_encoder()\n",
    "\n",
    "    for col in cols\n",
    "        # X_train[!,col] = map(x -> (x===missing) ? missing : get(label_encoder[col],x,-1),X_train[!,col])\n",
    "        # X_test[!,col] = map(x -> (x===missing) ? missing : get(label_encoder[col],x,-1),X_test[!,col])\n",
    "\n",
    "        X_train[!,col] = map(x -> get(label_encoder[col],x,-1),X_train[!,col])\n",
    "        X_test[!,col] = map(x -> get(label_encoder[col],x,-1),X_test[!,col])\n",
    "\n",
    "    end\n",
    "    \n",
    "    X_train,X_test\n",
    "end\n",
    "\n",
    "function partition_data(y)\n",
    "    fraction = 0.8\n",
    "    rng = RANDOM_STATE\n",
    "    shuffle = true\n",
    "\n",
    "    train_idx, test_idx = MLJ.partition(eachindex(y[!,TARGET]), 0.8,shuffle=true,rng=RANDOM_STATE)\n",
    "\n",
    "    train_idx, test_idx\n",
    "end\n",
    "\n",
    "function add_necessary_data_types(train,y_train,test) \n",
    "    map = []\n",
    "\n",
    "    for col in names(train)\n",
    "        if col in CATEGORICAL_COLS\n",
    "            push!(map, col => Multiclass)\n",
    "        else \n",
    "            push!(map, col => Continuous)\n",
    "        end\n",
    "    end\n",
    "\n",
    "    # println(map...)\n",
    "    \n",
    "    train = coerce(train,map...)\n",
    "    test = coerce(test,map...)\n",
    "    # y_train = coerce(y_train,TARGET => Count)\n",
    "    y_train = coerce(y_train,TARGET => Multiclass)\n",
    "    train,y_train,test \n",
    "end\n",
    "\n",
    "function preprocessor(train,test,sub) \n",
    "    X_train = select(train,Not(TARGET))\n",
    "    y_train = select(train,TARGET)\n",
    "    X_train,test = dropping_unnecessary_cols(X_train,test)\n",
    "    X_train,test = missing_value_handler(X_train,test,MISSING_COLS)\n",
    "    X_train,test = categorical_feature_handler(X_train,test,CATEGORICAL_COLS)\n",
    "    X_train,test = label_encoding_handler(X_train,test,CATEGORICAL_COLS)\n",
    "    X_train,y_train,test = add_necessary_data_types(X_train,y_train,test)\n",
    "    # X_train,y_train,X_test,y_test = partition_data(X_train,y_train)\n",
    "    # y_train = y_train[!,TARGET]\n",
    "\n",
    "    X_train,y_train,test,sub\n",
    "end\n",
    "\n",
    "# X_train,y_train,X_test,y_test,test,sub = preprocessor(train,test,sub) \n",
    "X_train,y_train,test,sub = preprocessor(train,test,sub)\n",
    "train_idx, test_idx = partition_data(y_train)\n",
    "y_train = y_train[!,TARGET]\n",
    "println(size(train_idx),size(test_idx),size(test),size(sub))\n",
    "print(\"Done!\")"
   ]
  },
  {
   "cell_type": "code",
   "execution_count": 50,
   "metadata": {},
   "outputs": [
    {
     "data": {
      "text/html": [
       "<div><div style = \"float: left;\"><span>4277×2 DataFrame</span></div><div style = \"float: right;\"><span style = \"font-style: italic;\">4252 rows omitted</span></div><div style = \"clear: both;\"></div></div><div class = \"data-frame\" style = \"overflow-x: scroll;\"><table class = \"data-frame\" style = \"margin-bottom: 6px;\"><thead><tr class = \"header\"><th class = \"rowNumber\" style = \"font-weight: bold; text-align: right;\">Row</th><th style = \"text-align: left;\">PassengerId</th><th style = \"text-align: left;\">Transported</th></tr><tr class = \"subheader headerLastRow\"><th class = \"rowNumber\" style = \"font-weight: bold; text-align: right;\"></th><th title = \"String7\" style = \"text-align: left;\">String7</th><th title = \"Bool\" style = \"text-align: left;\">Bool</th></tr></thead><tbody><tr><td class = \"rowNumber\" style = \"font-weight: bold; text-align: right;\">1</td><td style = \"text-align: left;\">0013_01</td><td style = \"text-align: right;\">true</td></tr><tr><td class = \"rowNumber\" style = \"font-weight: bold; text-align: right;\">2</td><td style = \"text-align: left;\">0018_01</td><td style = \"text-align: right;\">false</td></tr><tr><td class = \"rowNumber\" style = \"font-weight: bold; text-align: right;\">3</td><td style = \"text-align: left;\">0019_01</td><td style = \"text-align: right;\">true</td></tr><tr><td class = \"rowNumber\" style = \"font-weight: bold; text-align: right;\">4</td><td style = \"text-align: left;\">0021_01</td><td style = \"text-align: right;\">true</td></tr><tr><td class = \"rowNumber\" style = \"font-weight: bold; text-align: right;\">5</td><td style = \"text-align: left;\">0023_01</td><td style = \"text-align: right;\">true</td></tr><tr><td class = \"rowNumber\" style = \"font-weight: bold; text-align: right;\">6</td><td style = \"text-align: left;\">0027_01</td><td style = \"text-align: right;\">true</td></tr><tr><td class = \"rowNumber\" style = \"font-weight: bold; text-align: right;\">7</td><td style = \"text-align: left;\">0029_01</td><td style = \"text-align: right;\">true</td></tr><tr><td class = \"rowNumber\" style = \"font-weight: bold; text-align: right;\">8</td><td style = \"text-align: left;\">0032_01</td><td style = \"text-align: right;\">true</td></tr><tr><td class = \"rowNumber\" style = \"font-weight: bold; text-align: right;\">9</td><td style = \"text-align: left;\">0032_02</td><td style = \"text-align: right;\">true</td></tr><tr><td class = \"rowNumber\" style = \"font-weight: bold; text-align: right;\">10</td><td style = \"text-align: left;\">0033_01</td><td style = \"text-align: right;\">false</td></tr><tr><td class = \"rowNumber\" style = \"font-weight: bold; text-align: right;\">11</td><td style = \"text-align: left;\">0037_01</td><td style = \"text-align: right;\">false</td></tr><tr><td class = \"rowNumber\" style = \"font-weight: bold; text-align: right;\">12</td><td style = \"text-align: left;\">0040_01</td><td style = \"text-align: right;\">false</td></tr><tr><td class = \"rowNumber\" style = \"font-weight: bold; text-align: right;\">13</td><td style = \"text-align: left;\">0040_02</td><td style = \"text-align: right;\">true</td></tr><tr><td style = \"text-align: right;\">&vellip;</td><td style = \"text-align: right;\">&vellip;</td><td style = \"text-align: right;\">&vellip;</td></tr><tr><td class = \"rowNumber\" style = \"font-weight: bold; text-align: right;\">4266</td><td style = \"text-align: left;\">9255_01</td><td style = \"text-align: right;\">true</td></tr><tr><td class = \"rowNumber\" style = \"font-weight: bold; text-align: right;\">4267</td><td style = \"text-align: left;\">9258_01</td><td style = \"text-align: right;\">true</td></tr><tr><td class = \"rowNumber\" style = \"font-weight: bold; text-align: right;\">4268</td><td style = \"text-align: left;\">9260_01</td><td style = \"text-align: right;\">true</td></tr><tr><td class = \"rowNumber\" style = \"font-weight: bold; text-align: right;\">4269</td><td style = \"text-align: left;\">9262_01</td><td style = \"text-align: right;\">true</td></tr><tr><td class = \"rowNumber\" style = \"font-weight: bold; text-align: right;\">4270</td><td style = \"text-align: left;\">9263_01</td><td style = \"text-align: right;\">true</td></tr><tr><td class = \"rowNumber\" style = \"font-weight: bold; text-align: right;\">4271</td><td style = \"text-align: left;\">9265_01</td><td style = \"text-align: right;\">true</td></tr><tr><td class = \"rowNumber\" style = \"font-weight: bold; text-align: right;\">4272</td><td style = \"text-align: left;\">9266_01</td><td style = \"text-align: right;\">true</td></tr><tr><td class = \"rowNumber\" style = \"font-weight: bold; text-align: right;\">4273</td><td style = \"text-align: left;\">9266_02</td><td style = \"text-align: right;\">true</td></tr><tr><td class = \"rowNumber\" style = \"font-weight: bold; text-align: right;\">4274</td><td style = \"text-align: left;\">9269_01</td><td style = \"text-align: right;\">false</td></tr><tr><td class = \"rowNumber\" style = \"font-weight: bold; text-align: right;\">4275</td><td style = \"text-align: left;\">9271_01</td><td style = \"text-align: right;\">true</td></tr><tr><td class = \"rowNumber\" style = \"font-weight: bold; text-align: right;\">4276</td><td style = \"text-align: left;\">9273_01</td><td style = \"text-align: right;\">true</td></tr><tr><td class = \"rowNumber\" style = \"font-weight: bold; text-align: right;\">4277</td><td style = \"text-align: left;\">9277_01</td><td style = \"text-align: right;\">true</td></tr></tbody></table></div>"
      ],
      "text/latex": [
       "\\begin{tabular}{r|cc}\n",
       "\t& PassengerId & Transported\\\\\n",
       "\t\\hline\n",
       "\t& String7 & Bool\\\\\n",
       "\t\\hline\n",
       "\t1 & 0013\\_01 & 1 \\\\\n",
       "\t2 & 0018\\_01 & 0 \\\\\n",
       "\t3 & 0019\\_01 & 1 \\\\\n",
       "\t4 & 0021\\_01 & 1 \\\\\n",
       "\t5 & 0023\\_01 & 1 \\\\\n",
       "\t6 & 0027\\_01 & 1 \\\\\n",
       "\t7 & 0029\\_01 & 1 \\\\\n",
       "\t8 & 0032\\_01 & 1 \\\\\n",
       "\t9 & 0032\\_02 & 1 \\\\\n",
       "\t10 & 0033\\_01 & 0 \\\\\n",
       "\t11 & 0037\\_01 & 0 \\\\\n",
       "\t12 & 0040\\_01 & 0 \\\\\n",
       "\t13 & 0040\\_02 & 1 \\\\\n",
       "\t14 & 0042\\_01 & 1 \\\\\n",
       "\t15 & 0046\\_01 & 0 \\\\\n",
       "\t16 & 0046\\_02 & 0 \\\\\n",
       "\t17 & 0046\\_03 & 0 \\\\\n",
       "\t18 & 0047\\_01 & 1 \\\\\n",
       "\t19 & 0047\\_02 & 1 \\\\\n",
       "\t20 & 0047\\_03 & 0 \\\\\n",
       "\t21 & 0048\\_01 & 1 \\\\\n",
       "\t22 & 0049\\_01 & 0 \\\\\n",
       "\t23 & 0054\\_01 & 1 \\\\\n",
       "\t24 & 0054\\_02 & 1 \\\\\n",
       "\t$\\dots$ & $\\dots$ & $\\dots$ \\\\\n",
       "\\end{tabular}\n"
      ],
      "text/plain": [
       "\u001b[1m4277×2 DataFrame\u001b[0m\n",
       "\u001b[1m  Row \u001b[0m│\u001b[1m PassengerId \u001b[0m\u001b[1m Transported \u001b[0m\n",
       "      │\u001b[90m String7     \u001b[0m\u001b[90m Bool        \u001b[0m\n",
       "──────┼──────────────────────────\n",
       "    1 │ 0013_01             true\n",
       "    2 │ 0018_01            false\n",
       "    3 │ 0019_01             true\n",
       "    4 │ 0021_01             true\n",
       "    5 │ 0023_01             true\n",
       "    6 │ 0027_01             true\n",
       "    7 │ 0029_01             true\n",
       "    8 │ 0032_01             true\n",
       "  ⋮   │      ⋮            ⋮\n",
       " 4271 │ 9265_01             true\n",
       " 4272 │ 9266_01             true\n",
       " 4273 │ 9266_02             true\n",
       " 4274 │ 9269_01            false\n",
       " 4275 │ 9271_01             true\n",
       " 4276 │ 9273_01             true\n",
       " 4277 │ 9277_01             true\n",
       "\u001b[36m                4262 rows omitted\u001b[0m"
      ]
     },
     "metadata": {},
     "output_type": "display_data"
    }
   ],
   "source": [
    "sub"
   ]
  },
  {
   "cell_type": "code",
   "execution_count": 11,
   "metadata": {},
   "outputs": [
    {
     "data": {
      "text/plain": [
       "4-element Vector{NamedTuple{(:name, :package_name, :is_supervised, :abstract_type, :deep_properties, :docstring, :fit_data_scitype, :human_name, :hyperparameter_ranges, :hyperparameter_types, :hyperparameters, :implemented_methods, :inverse_transform_scitype, :is_pure_julia, :is_wrapper, :iteration_parameter, :load_path, :package_license, :package_url, :package_uuid, :predict_scitype, :prediction_type, :reporting_operations, :reports_feature_importances, :supports_class_weights, :supports_online, :supports_training_losses, :supports_weights, :transform_scitype, :input_scitype, :target_scitype, :output_scitype)}}:\n",
       " (name = ConstantClassifier, package_name = MLJModels, ... )\n",
       " (name = DecisionTreeClassifier, package_name = BetaML, ... )\n",
       " (name = DeterministicConstantClassifier, package_name = MLJModels, ... )\n",
       " (name = RandomForestClassifier, package_name = BetaML, ... )"
      ]
     },
     "metadata": {},
     "output_type": "display_data"
    }
   ],
   "source": [
    "MLJ.models(matching(X_train,y_train))"
   ]
  },
  {
   "cell_type": "code",
   "execution_count": 12,
   "metadata": {},
   "outputs": [
    {
     "data": {
      "text/plain": [
       "Dict{Any, Any}()"
      ]
     },
     "metadata": {},
     "output_type": "display_data"
    }
   ],
   "source": [
    "test_results=Dict()"
   ]
  },
  {
   "cell_type": "code",
   "execution_count": 13,
   "metadata": {},
   "outputs": [
    {
     "name": "stdout",
     "output_type": "stream",
     "text": [
      "import MLJDecisionTreeInterface"
     ]
    },
    {
     "name": "stderr",
     "output_type": "stream",
     "text": [
      "┌ Info: For silent loading, specify `verbosity=0`. \n",
      "└ @ Main C:\\Users\\Utsav\\.julia\\packages\\MLJModels\\OJDDo\\src\\loading.jl:159\n"
     ]
    },
    {
     "name": "stdout",
     "output_type": "stream",
     "text": [
      " ✔"
     ]
    },
    {
     "name": "stdout",
     "output_type": "stream",
     "text": [
      "\n"
     ]
    },
    {
     "name": "stderr",
     "output_type": "stream",
     "text": [
      "┌ Warning: The number and/or types of data arguments do not match what the specified model\n",
      "│ supports. Suppress this type check by specifying `scitype_check_level=0`.\n",
      "│ \n",
      "│ Run `@doc DecisionTree.DecisionTreeClassifier` to learn more about your model's requirements.\n",
      "│ \n",
      "│ Commonly, but non exclusively, supervised models are constructed using the syntax\n",
      "│ `machine(model, X, y)` or `machine(model, X, y, w)` while most other models are\n",
      "│ constructed with `machine(model, X)`.  Here `X` are features, `y` a target, and `w`\n",
      "│ sample or class weights.\n",
      "│ \n",
      "│ In general, data in `machine(model, data...)` is expected to satisfy\n",
      "│ \n",
      "│     scitype(data) <: MLJ.fit_data_scitype(model)\n",
      "│ \n",
      "│ In the present case:\n",
      "│ \n",
      "│ scitype(data) = Tuple{Table{Union{AbstractVector{Continuous}, AbstractVector{Multiclass{6561}}, AbstractVector{Multiclass{4}}, AbstractVector{Multiclass{3}}}}, AbstractVector{Multiclass{2}}}\n",
      "│ \n",
      "│ fit_data_scitype(model) = Tuple{Table{<:Union{AbstractVector{<:Continuous}, AbstractVector{<:Count}, AbstractVector{<:OrderedFactor}}}, AbstractVector{<:Finite}}\n",
      "└ @ MLJBase C:\\Users\\Utsav\\.julia\\packages\\MLJBase\\WKVEo\\src\\machines.jl:230\n"
     ]
    },
    {
     "name": "stderr",
     "output_type": "stream",
     "text": [
      "┌ Info: Creating subsamples from a subset of all rows. \n",
      "└ @ MLJBase C:\\Users\\Utsav\\.julia\\packages\\MLJBase\\WKVEo\\src\\resampling.jl:601\n"
     ]
    },
    {
     "name": "stderr",
     "output_type": "stream",
     "text": [
      "\r\u001b[33mEvaluating over 10 folds:  20%[=====>                   ]  ETA: 0:00:38\u001b[39m\u001b[K"
     ]
    },
    {
     "name": "stderr",
     "output_type": "stream",
     "text": [
      "\r\u001b[33mEvaluating over 10 folds: 100%[=========================] Time: 0:00:10\u001b[39m\u001b[K"
     ]
    },
    {
     "name": "stderr",
     "output_type": "stream",
     "text": [
      "\n"
     ]
    },
    {
     "data": {
      "text/plain": [
       "PerformanceEvaluation object with these fields:\n",
       "  measure, operation, measurement, per_fold,\n",
       "  per_observation, fitted_params_per_fold,\n",
       "  report_per_fold, train_test_rows\n",
       "Extract:\n",
       "┌────────────┬──────────────┬─────────────┬─────────┬───────────────────────────\n",
       "│\u001b[22m measure    \u001b[0m│\u001b[22m operation    \u001b[0m│\u001b[22m measurement \u001b[0m│\u001b[22m 1.96*SE \u001b[0m│\u001b[22m per_fold                \u001b[0m ⋯\n",
       "├────────────┼──────────────┼─────────────┼─────────┼───────────────────────────\n",
       "│ Accuracy() │ predict_mode │ 0.717       │ 0.0179  │ [0.71, 0.721, 0.741, 0.7 ⋯\n",
       "└────────────┴──────────────┴─────────────┴─────────┴───────────────────────────\n",
       "\u001b[36m                                                                1 column omitted\u001b[0m\n"
      ]
     },
     "metadata": {},
     "output_type": "display_data"
    }
   ],
   "source": [
    "# @doc MLJDecisionTreeInterface.DecisionTreeClassifier\n",
    "\n",
    "Random.seed!(RANDOM_STATE)\n",
    "model = @load DecisionTreeClassifier pkg=DecisionTree\n",
    "model = machine(model(),X_train,y_train)\n",
    "eval_results=evaluate!(model,rows=train_idx, resampling=CV(nfolds=10,shuffle=true,rng=RANDOM_STATE), measures=[MLJ.accuracy],operation=predict_mode)\n",
    "y_hat = predict_mode(model, rows=test_idx)\n",
    "test_results[\"DecisionTree\"] = MLJ.accuracy(y_hat, y_train[test_idx])\n",
    "eval_results"
   ]
  },
  {
   "cell_type": "code",
   "execution_count": 14,
   "metadata": {},
   "outputs": [
    {
     "name": "stdout",
     "output_type": "stream",
     "text": [
      "import MLJDecisionTreeInterface ✔\n"
     ]
    },
    {
     "name": "stderr",
     "output_type": "stream",
     "text": [
      "┌ Info: For silent loading, specify `verbosity=0`. \n",
      "└ @ Main C:\\Users\\Utsav\\.julia\\packages\\MLJModels\\OJDDo\\src\\loading.jl:159\n"
     ]
    },
    {
     "name": "stderr",
     "output_type": "stream",
     "text": [
      "┌ Warning: The number and/or types of data arguments do not match what the specified model\n",
      "│ supports. Suppress this type check by specifying `scitype_check_level=0`.\n",
      "│ \n",
      "│ Run `@doc DecisionTree.RandomForestClassifier` to learn more about your model's requirements.\n",
      "│ \n",
      "│ Commonly, but non exclusively, supervised models are constructed using the syntax\n",
      "│ `machine(model, X, y)` or `machine(model, X, y, w)` while most other models are\n",
      "│ constructed with `machine(model, X)`.  Here `X` are features, `y` a target, and `w`\n",
      "│ sample or class weights.\n",
      "│ \n",
      "│ In general, data in `machine(model, data...)` is expected to satisfy\n",
      "│ \n",
      "│     scitype(data) <: MLJ.fit_data_scitype(model)\n",
      "│ \n",
      "│ In the present case:\n",
      "│ \n",
      "│ scitype(data) = Tuple{Table{Union{AbstractVector{Continuous}, AbstractVector{Multiclass{6561}}, AbstractVector{Multiclass{4}}, AbstractVector{Multiclass{3}}}}, AbstractVector{Multiclass{2}}}\n",
      "│ \n",
      "│ fit_data_scitype(model) = Tuple{Table{<:Union{AbstractVector{<:Continuous}, AbstractVector{<:Count}, AbstractVector{<:OrderedFactor}}}, AbstractVector{<:Finite}}\n",
      "└ @ MLJBase C:\\Users\\Utsav\\.julia\\packages\\MLJBase\\WKVEo\\src\\machines.jl:230\n",
      "┌ Info: Creating subsamples from a subset of all rows. \n",
      "└ @ MLJBase C:\\Users\\Utsav\\.julia\\packages\\MLJBase\\WKVEo\\src\\resampling.jl:601\n"
     ]
    },
    {
     "name": "stderr",
     "output_type": "stream",
     "text": [
      "\r\u001b[33mEvaluating over 10 folds:  20%[=====>                   ]  ETA: 0:00:10\u001b[39m\u001b[K"
     ]
    },
    {
     "name": "stderr",
     "output_type": "stream",
     "text": [
      "\r\u001b[33mEvaluating over 10 folds:  30%[=======>                 ]  ETA: 0:00:07\u001b[39m\u001b[K"
     ]
    },
    {
     "name": "stderr",
     "output_type": "stream",
     "text": [
      "\r\u001b[33mEvaluating over 10 folds:  40%[==========>              ]  ETA: 0:00:05\u001b[39m\u001b[K"
     ]
    },
    {
     "name": "stderr",
     "output_type": "stream",
     "text": [
      "\r\u001b[33mEvaluating over 10 folds:  50%[============>            ]  ETA: 0:00:04\u001b[39m\u001b[K"
     ]
    },
    {
     "name": "stderr",
     "output_type": "stream",
     "text": [
      "\r\u001b[33mEvaluating over 10 folds:  60%[===============>         ]  ETA: 0:00:03\u001b[39m\u001b[K"
     ]
    },
    {
     "name": "stderr",
     "output_type": "stream",
     "text": [
      "\r\u001b[33mEvaluating over 10 folds:  70%[=================>       ]  ETA: 0:00:02\u001b[39m\u001b[K"
     ]
    },
    {
     "name": "stderr",
     "output_type": "stream",
     "text": [
      "\r\u001b[33mEvaluating over 10 folds:  80%[====================>    ]  ETA: 0:00:02\u001b[39m\u001b[K"
     ]
    },
    {
     "name": "stderr",
     "output_type": "stream",
     "text": [
      "\r\u001b[33mEvaluating over 10 folds:  90%[======================>  ]  ETA: 0:00:01\u001b[39m\u001b[K"
     ]
    },
    {
     "name": "stderr",
     "output_type": "stream",
     "text": [
      "\r\u001b[33mEvaluating over 10 folds: 100%[=========================] Time: 0:00:07\u001b[39m\u001b[K\n"
     ]
    },
    {
     "data": {
      "text/plain": [
       "PerformanceEvaluation object with these fields:\n",
       "  measure, operation, measurement, per_fold,\n",
       "  per_observation, fitted_params_per_fold,\n",
       "  report_per_fold, train_test_rows\n",
       "Extract:\n",
       "┌────────────┬──────────────┬─────────────┬─────────┬───────────────────────────\n",
       "│\u001b[22m measure    \u001b[0m│\u001b[22m operation    \u001b[0m│\u001b[22m measurement \u001b[0m│\u001b[22m 1.96*SE \u001b[0m│\u001b[22m per_fold                \u001b[0m ⋯\n",
       "├────────────┼──────────────┼─────────────┼─────────┼───────────────────────────\n",
       "│ Accuracy() │ predict_mode │ 0.784       │ 0.0146  │ [0.796, 0.793, 0.799, 0. ⋯\n",
       "└────────────┴──────────────┴─────────────┴─────────┴───────────────────────────\n",
       "\u001b[36m                                                                1 column omitted\u001b[0m\n"
      ]
     },
     "metadata": {},
     "output_type": "display_data"
    }
   ],
   "source": [
    "# @doc MLJDecisionTreeInterface.RandomForestClassifier\n",
    "\n",
    "Random.seed!(RANDOM_STATE)\n",
    "model = @load RandomForestClassifier pkg=DecisionTree\n",
    "model = machine(model(),X_train,y_train)\n",
    "eval_results=evaluate!(model,rows=train_idx, resampling=CV(nfolds=10,shuffle=true,rng=RANDOM_STATE), measures=[MLJ.accuracy],operation=predict_mode)\n",
    "y_hat = predict_mode(model, rows=test_idx)\n",
    "test_results[\"RandomForest\"] =  MLJ.accuracy(y_hat, y_train[test_idx])\n",
    "eval_results"
   ]
  },
  {
   "cell_type": "code",
   "execution_count": 15,
   "metadata": {},
   "outputs": [
    {
     "name": "stderr",
     "output_type": "stream",
     "text": [
      "┌ Info: For silent loading, specify `verbosity=0`. \n",
      "└ @ Main C:\\Users\\Utsav\\.julia\\packages\\MLJModels\\OJDDo\\src\\loading.jl:159\n"
     ]
    },
    {
     "name": "stdout",
     "output_type": "stream",
     "text": [
      "import MLJScikitLearnInterface ✔\n"
     ]
    },
    {
     "name": "stderr",
     "output_type": "stream",
     "text": [
      "┌ Warning: The number and/or types of data arguments do not match what the specified model\n",
      "│ supports. Suppress this type check by specifying `scitype_check_level=0`.\n",
      "│ \n",
      "│ Run `@doc ScikitLearn.ExtraTreesClassifier` to learn more about your model's requirements.\n",
      "│ \n",
      "│ Commonly, but non exclusively, supervised models are constructed using the syntax\n",
      "│ `machine(model, X, y)` or `machine(model, X, y, w)` while most other models are\n",
      "│ constructed with `machine(model, X)`.  Here `X` are features, `y` a target, and `w`\n",
      "│ sample or class weights.\n",
      "│ \n",
      "│ In general, data in `machine(model, data...)` is expected to satisfy\n",
      "│ \n",
      "│     scitype(data) <: MLJ.fit_data_scitype(model)\n",
      "│ \n",
      "│ In the present case:\n",
      "│ \n",
      "│ scitype(data) = Tuple{Table{Union{AbstractVector{Continuous}, AbstractVector{Multiclass{6561}}, AbstractVector{Multiclass{4}}, AbstractVector{Multiclass{3}}}}, AbstractVector{Multiclass{2}}}\n",
      "│ \n",
      "│ fit_data_scitype(model) = Tuple{Table{<:AbstractVector{<:Continuous}}, AbstractVector{<:Finite}}\n",
      "└ @ MLJBase C:\\Users\\Utsav\\.julia\\packages\\MLJBase\\WKVEo\\src\\machines.jl:230\n"
     ]
    },
    {
     "name": "stderr",
     "output_type": "stream",
     "text": [
      "┌ Info: Creating subsamples from a subset of all rows. \n",
      "└ @ MLJBase C:\\Users\\Utsav\\.julia\\packages\\MLJBase\\WKVEo\\src\\resampling.jl:601\n"
     ]
    },
    {
     "name": "stderr",
     "output_type": "stream",
     "text": [
      "\r\u001b[33mEvaluating over 10 folds:  20%[=====>                   ]  ETA: 0:00:17\u001b[39m\u001b[K"
     ]
    },
    {
     "name": "stderr",
     "output_type": "stream",
     "text": [
      "\r\u001b[33mEvaluating over 10 folds:  30%[=======>                 ]  ETA: 0:00:12\u001b[39m\u001b[K"
     ]
    },
    {
     "name": "stderr",
     "output_type": "stream",
     "text": [
      "\r\u001b[33mEvaluating over 10 folds:  40%[==========>              ]  ETA: 0:00:08\u001b[39m\u001b[K"
     ]
    },
    {
     "name": "stderr",
     "output_type": "stream",
     "text": [
      "\r\u001b[33mEvaluating over 10 folds:  50%[============>            ]  ETA: 0:00:06\u001b[39m\u001b[K"
     ]
    },
    {
     "name": "stderr",
     "output_type": "stream",
     "text": [
      "\r\u001b[33mEvaluating over 10 folds:  60%[===============>         ]  ETA: 0:00:04\u001b[39m\u001b[K"
     ]
    },
    {
     "name": "stderr",
     "output_type": "stream",
     "text": [
      "\r\u001b[33mEvaluating over 10 folds:  70%[=================>       ]  ETA: 0:00:03\u001b[39m\u001b[K"
     ]
    },
    {
     "name": "stderr",
     "output_type": "stream",
     "text": [
      "\r\u001b[33mEvaluating over 10 folds:  80%[====================>    ]  ETA: 0:00:02\u001b[39m\u001b[K"
     ]
    },
    {
     "name": "stderr",
     "output_type": "stream",
     "text": [
      "\r\u001b[33mEvaluating over 10 folds:  90%[======================>  ]  ETA: 0:00:01\u001b[39m\u001b[K"
     ]
    },
    {
     "name": "stderr",
     "output_type": "stream",
     "text": [
      "\r\u001b[33mEvaluating over 10 folds: 100%[=========================] Time: 0:00:08\u001b[39m\u001b[K\n"
     ]
    },
    {
     "data": {
      "text/plain": [
       "PerformanceEvaluation object with these fields:\n",
       "  measure, operation, measurement, per_fold,\n",
       "  per_observation, fitted_params_per_fold,\n",
       "  report_per_fold, train_test_rows\n",
       "Extract:\n",
       "┌────────────┬──────────────┬─────────────┬─────────┬───────────────────────────\n",
       "│\u001b[22m measure    \u001b[0m│\u001b[22m operation    \u001b[0m│\u001b[22m measurement \u001b[0m│\u001b[22m 1.96*SE \u001b[0m│\u001b[22m per_fold                \u001b[0m ⋯\n",
       "├────────────┼──────────────┼─────────────┼─────────┼───────────────────────────\n",
       "│ Accuracy() │ predict_mode │ 0.779       │ 0.0142  │ [0.784, 0.792, 0.793, 0. ⋯\n",
       "└────────────┴──────────────┴─────────────┴─────────┴───────────────────────────\n",
       "\u001b[36m                                                                1 column omitted\u001b[0m\n"
      ]
     },
     "metadata": {},
     "output_type": "display_data"
    }
   ],
   "source": [
    "# @doc MLJScikitLearnInterface.ExtraTreesClassifier\n",
    "\n",
    "Random.seed!(RANDOM_STATE)\n",
    "model = @load ExtraTreesClassifier\n",
    "model = machine(model(),X_train,y_train)\n",
    "eval_results=evaluate!(model,rows=train_idx, resampling=CV(nfolds=10,shuffle=true,rng=RANDOM_STATE), measures=[MLJ.accuracy],operation=predict_mode)\n",
    "y_hat = predict_mode(model, rows=test_idx)\n",
    "test_results[\"ExtraTrees\"] =  MLJ.accuracy(y_hat, y_train[test_idx])\n",
    "eval_results"
   ]
  },
  {
   "cell_type": "code",
   "execution_count": 16,
   "metadata": {},
   "outputs": [
    {
     "name": "stdout",
     "output_type": "stream",
     "text": [
      "import MLJScikitLearnInterface"
     ]
    },
    {
     "name": "stderr",
     "output_type": "stream",
     "text": [
      "┌ Info: For silent loading, specify `verbosity=0`. \n",
      "└ @ Main C:\\Users\\Utsav\\.julia\\packages\\MLJModels\\OJDDo\\src\\loading.jl:159\n"
     ]
    },
    {
     "name": "stdout",
     "output_type": "stream",
     "text": [
      " ✔"
     ]
    },
    {
     "name": "stdout",
     "output_type": "stream",
     "text": [
      "\n"
     ]
    },
    {
     "name": "stderr",
     "output_type": "stream",
     "text": [
      "┌ Warning: The number and/or types of data arguments do not match what the specified model\n",
      "│ supports. Suppress this type check by specifying `scitype_check_level=0`.\n",
      "│ \n",
      "│ Run `@doc ScikitLearn.LogisticClassifier` to learn more about your model's requirements.\n",
      "│ \n",
      "│ Commonly, but non exclusively, supervised models are constructed using the syntax\n",
      "│ `machine(model, X, y)` or `machine(model, X, y, w)` while most other models are\n",
      "│ constructed with `machine(model, X)`.  Here `X` are features, `y` a target, and `w`\n",
      "│ sample or class weights.\n",
      "│ \n",
      "│ In general, data in `machine(model, data...)` is expected to satisfy\n",
      "│ \n",
      "│     scitype(data) <: MLJ.fit_data_scitype(model)\n",
      "│ \n",
      "│ In the present case:\n",
      "│ \n",
      "│ scitype(data) = Tuple{Table{Union{AbstractVector{Continuous}, AbstractVector{Multiclass{6561}}, AbstractVector{Multiclass{4}}, AbstractVector{Multiclass{3}}}}, AbstractVector{Multiclass{2}}}\n",
      "│ \n",
      "│ fit_data_scitype(model) = Tuple{Table{<:AbstractVector{<:Continuous}}, AbstractVector{<:Finite}}\n",
      "└ @ MLJBase C:\\Users\\Utsav\\.julia\\packages\\MLJBase\\WKVEo\\src\\machines.jl:230\n",
      "┌ Info: Creating subsamples from a subset of all rows. \n",
      "└ @ MLJBase C:\\Users\\Utsav\\.julia\\packages\\MLJBase\\WKVEo\\src\\resampling.jl:601\n"
     ]
    },
    {
     "name": "stderr",
     "output_type": "stream",
     "text": [
      "C:\\Users\\Utsav\\.julia\\conda\\3\\lib\\site-packages\\sklearn\\linear_model\\_logistic.py:458: ConvergenceWarning: lbfgs failed to converge (status=1):\r\n",
      "STOP: TOTAL NO. of ITERATIONS REACHED LIMIT.\r\n",
      "\r\n",
      "Increase the number of iterations (max_iter) or scale the data as shown in:\r\n",
      "    https://scikit-learn.org/stable/modules/preprocessing.html\r\n",
      "Please also refer to the documentation for alternative solver options:\r\n",
      "    https://scikit-learn.org/stable/modules/linear_model.html#logistic-regression\r\n",
      "  n_iter_i = _check_optimize_result(\r\n",
      "C:\\Users\\Utsav\\.julia\\conda\\3\\lib\\site-packages\\sklearn\\linear_model\\_logistic.py:458: ConvergenceWarning: lbfgs failed to converge (status=1):\r\n",
      "STOP: TOTAL NO. of ITERATIONS REACHED LIMIT.\r\n",
      "\r\n",
      "Increase the number of iterations (max_iter) or scale the data as shown in:\r\n",
      "    https://scikit-learn.org/stable/modules/preprocessing.html\r\n",
      "Please also refer to the documentation for alternative solver options:\r\n",
      "    https://scikit-learn.org/stable/modules/linear_model.html#logistic-regression\r\n",
      "  n_iter_i = _check_optimize_result(\r\n",
      "\r\u001b[33mEvaluating over 10 folds:  20%[=====>                   ]  ETA: 0:00:02\u001b[39m\u001b[K"
     ]
    },
    {
     "name": "stderr",
     "output_type": "stream",
     "text": [
      "C:\\Users\\Utsav\\.julia\\conda\\3\\lib\\site-packages\\sklearn\\linear_model\\_logistic.py:458: ConvergenceWarning: lbfgs failed to converge (status=1):\r\n",
      "STOP: TOTAL NO. of ITERATIONS REACHED LIMIT.\r\n",
      "\r\n",
      "Increase the number of iterations (max_iter) or scale the data as shown in:\r\n",
      "    https://scikit-learn.org/stable/modules/preprocessing.html\r\n",
      "Please also refer to the documentation for alternative solver options:\r\n",
      "    https://scikit-learn.org/stable/modules/linear_model.html#logistic-regression\r\n",
      "  n_iter_i = _check_optimize_result(\r\n",
      "C:\\Users\\Utsav\\.julia\\conda\\3\\lib\\site-packages\\sklearn\\linear_model\\_logistic.py:458: ConvergenceWarning: lbfgs failed to converge (status=1):\r\n",
      "STOP: TOTAL NO. of ITERATIONS REACHED LIMIT.\r\n",
      "\r\n",
      "Increase the number of iterations (max_iter) or scale the data as shown in:\r\n",
      "    https://scikit-learn.org/stable/modules/preprocessing.html\r\n",
      "Please also refer to the documentation for alternative solver options:\r\n",
      "    https://scikit-learn.org/stable/modules/linear_model.html#logistic-regression\r\n",
      "  n_iter_i = _check_optimize_result(\r\n",
      "\r\u001b[33mEvaluating over 10 folds:  40%[==========>              ]  ETA: 0:00:01\u001b[39m\u001b[K"
     ]
    },
    {
     "name": "stderr",
     "output_type": "stream",
     "text": [
      "C:\\Users\\Utsav\\.julia\\conda\\3\\lib\\site-packages\\sklearn\\linear_model\\_logistic.py:458: ConvergenceWarning: lbfgs failed to converge (status=1):\r\n",
      "STOP: TOTAL NO. of ITERATIONS REACHED LIMIT.\r\n",
      "\r\n",
      "Increase the number of iterations (max_iter) or scale the data as shown in:\r\n",
      "    https://scikit-learn.org/stable/modules/preprocessing.html\r\n",
      "Please also refer to the documentation for alternative solver options:\r\n",
      "    https://scikit-learn.org/stable/modules/linear_model.html#logistic-regression\r\n",
      "  n_iter_i = _check_optimize_result(\r\n",
      "C:\\Users\\Utsav\\.julia\\conda\\3\\lib\\site-packages\\sklearn\\linear_model\\_logistic.py:458: ConvergenceWarning: lbfgs failed to converge (status=1):\r\n",
      "STOP: TOTAL NO. of ITERATIONS REACHED LIMIT.\r\n",
      "\r\n",
      "Increase the number of iterations (max_iter) or scale the data as shown in:\r\n",
      "    https://scikit-learn.org/stable/modules/preprocessing.html\r\n",
      "Please also refer to the documentation for alternative solver options:\r\n",
      "    https://scikit-learn.org/stable/modules/linear_model.html#logistic-regression\r\n",
      "  n_iter_i = _check_optimize_result(\r\n",
      "\r\u001b[33mEvaluating over 10 folds:  60%[===============>         ]  ETA: 0:00:01\u001b[39m\u001b[K"
     ]
    },
    {
     "name": "stderr",
     "output_type": "stream",
     "text": [
      "C:\\Users\\Utsav\\.julia\\conda\\3\\lib\\site-packages\\sklearn\\linear_model\\_logistic.py:458: ConvergenceWarning: lbfgs failed to converge (status=1):\r\n",
      "STOP: TOTAL NO. of ITERATIONS REACHED LIMIT.\r\n",
      "\r\n",
      "Increase the number of iterations (max_iter) or scale the data as shown in:\r\n",
      "    https://scikit-learn.org/stable/modules/preprocessing.html\r\n",
      "Please also refer to the documentation for alternative solver options:\r\n",
      "    https://scikit-learn.org/stable/modules/linear_model.html#logistic-regression\r\n",
      "  n_iter_i = _check_optimize_result(\r\n",
      "C:\\Users\\Utsav\\.julia\\conda\\3\\lib\\site-packages\\sklearn\\linear_model\\_logistic.py:458: ConvergenceWarning: lbfgs failed to converge (status=1):\r\n",
      "STOP: TOTAL NO. of ITERATIONS REACHED LIMIT.\r\n",
      "\r\n",
      "Increase the number of iterations (max_iter) or scale the data as shown in:\r\n",
      "    https://scikit-learn.org/stable/modules/preprocessing.html\r\n",
      "Please also refer to the documentation for alternative solver options:\r\n",
      "    https://scikit-learn.org/stable/modules/linear_model.html#logistic-regression\r\n",
      "  n_iter_i = _check_optimize_result(\r\n",
      "C:\\Users\\Utsav\\.julia\\conda\\3\\lib\\site-packages\\sklearn\\linear_model\\_logistic.py:458: ConvergenceWarning: lbfgs failed to converge (status=1):\r\n",
      "STOP: TOTAL NO. of ITERATIONS REACHED LIMIT.\r\n",
      "\r\n",
      "Increase the number of iterations (max_iter) or scale the data as shown in:\r\n",
      "    https://scikit-learn.org/stable/modules/preprocessing.html\r\n",
      "Please also refer to the documentation for alternative solver options:\r\n",
      "    https://scikit-learn.org/stable/modules/linear_model.html#logistic-regression\r\n",
      "  n_iter_i = _check_optimize_result(\r\n",
      "\r\u001b[33mEvaluating over 10 folds:  90%[======================>  ]  ETA: 0:00:00\u001b[39m\u001b[K"
     ]
    },
    {
     "name": "stderr",
     "output_type": "stream",
     "text": [
      "C:\\Users\\Utsav\\.julia\\conda\\3\\lib\\site-packages\\sklearn\\linear_model\\_logistic.py:458: ConvergenceWarning: lbfgs failed to converge (status=1):\r\n",
      "STOP: TOTAL NO. of ITERATIONS REACHED LIMIT.\r\n",
      "\r\n",
      "Increase the number of iterations (max_iter) or scale the data as shown in:\r\n",
      "    https://scikit-learn.org/stable/modules/preprocessing.html\r\n",
      "Please also refer to the documentation for alternative solver options:\r\n",
      "    https://scikit-learn.org/stable/modules/linear_model.html#logistic-regression\r\n",
      "  n_iter_i = _check_optimize_result(\r\n",
      "\r\u001b[33mEvaluating over 10 folds: 100%[=========================] Time: 0:00:00\u001b[39m\u001b[K\n"
     ]
    },
    {
     "data": {
      "text/plain": [
       "PerformanceEvaluation object with these fields:\n",
       "  measure, operation, measurement, per_fold,\n",
       "  per_observation, fitted_params_per_fold,\n",
       "  report_per_fold, train_test_rows\n",
       "Extract:\n",
       "┌────────────┬──────────────┬─────────────┬─────────┬───────────────────────────\n",
       "│\u001b[22m measure    \u001b[0m│\u001b[22m operation    \u001b[0m│\u001b[22m measurement \u001b[0m│\u001b[22m 1.96*SE \u001b[0m│\u001b[22m per_fold                \u001b[0m ⋯\n",
       "├────────────┼──────────────┼─────────────┼─────────┼───────────────────────────\n",
       "│ Accuracy() │ predict_mode │ 0.781       │ 0.0147  │ [0.802, 0.795, 0.774, 0. ⋯\n",
       "└────────────┴──────────────┴─────────────┴─────────┴───────────────────────────\n",
       "\u001b[36m                                                                1 column omitted\u001b[0m\n"
      ]
     },
     "metadata": {},
     "output_type": "display_data"
    }
   ],
   "source": [
    "# @doc MLJScikitLearnInterface.LogisticClassifier\n",
    "\n",
    "Random.seed!(RANDOM_STATE)\n",
    "model = @load LogisticClassifier pkg=ScikitLearn\n",
    "model = machine(model(),X_train,y_train)\n",
    "eval_results=evaluate!(model,rows=train_idx, resampling=CV(nfolds=10,shuffle=true,rng=RANDOM_STATE), measures=[MLJ.accuracy],operation=predict_mode)\n",
    "y_hat = predict_mode(model, rows=test_idx)\n",
    "test_results[\"Logistic\"] =  MLJ.accuracy(y_hat, y_train[test_idx])\n",
    "eval_results"
   ]
  },
  {
   "cell_type": "code",
   "execution_count": 17,
   "metadata": {},
   "outputs": [
    {
     "name": "stdout",
     "output_type": "stream",
     "text": [
      "import MLJScikitLearnInterface ✔\n"
     ]
    },
    {
     "name": "stderr",
     "output_type": "stream",
     "text": [
      "┌ Info: For silent loading, specify `verbosity=0`. \n",
      "└ @ Main C:\\Users\\Utsav\\.julia\\packages\\MLJModels\\OJDDo\\src\\loading.jl:159\n"
     ]
    },
    {
     "name": "stderr",
     "output_type": "stream",
     "text": [
      "┌ Warning: The number and/or types of data arguments do not match what the specified model\n",
      "│ supports. Suppress this type check by specifying `scitype_check_level=0`.\n",
      "│ \n",
      "│ Run `@doc ScikitLearn.KNeighborsClassifier` to learn more about your model's requirements.\n",
      "│ \n",
      "│ Commonly, but non exclusively, supervised models are constructed using the syntax\n",
      "│ `machine(model, X, y)` or `machine(model, X, y, w)` while most other models are\n",
      "│ constructed with `machine(model, X)`.  Here `X` are features, `y` a target, and `w`\n",
      "│ sample or class weights.\n",
      "│ \n",
      "│ In general, data in `machine(model, data...)` is expected to satisfy\n",
      "│ \n",
      "│     scitype(data) <: MLJ.fit_data_scitype(model)\n",
      "│ \n",
      "│ In the present case:\n",
      "│ \n",
      "│ scitype(data) = Tuple{Table{Union{AbstractVector{Continuous}, AbstractVector{Multiclass{6561}}, AbstractVector{Multiclass{4}}, AbstractVector{Multiclass{3}}}}, AbstractVector{Multiclass{2}}}\n",
      "│ \n",
      "│ fit_data_scitype(model) = Tuple{Table{<:AbstractVector{<:Continuous}}, AbstractVector{<:Finite}}\n",
      "└ @ MLJBase C:\\Users\\Utsav\\.julia\\packages\\MLJBase\\WKVEo\\src\\machines.jl:230\n"
     ]
    },
    {
     "name": "stderr",
     "output_type": "stream",
     "text": [
      "┌ Info: Creating subsamples from a subset of all rows. \n",
      "└ @ MLJBase C:\\Users\\Utsav\\.julia\\packages\\MLJBase\\WKVEo\\src\\resampling.jl:601\n",
      "\r\u001b[33mEvaluating over 10 folds:  20%[=====>                   ]  ETA: 0:00:04\u001b[39m\u001b[K"
     ]
    },
    {
     "name": "stderr",
     "output_type": "stream",
     "text": [
      "\r\u001b[33mEvaluating over 10 folds:  40%[==========>              ]  ETA: 0:00:02\u001b[39m\u001b[K"
     ]
    },
    {
     "name": "stderr",
     "output_type": "stream",
     "text": [
      "\r\u001b[33mEvaluating over 10 folds:  70%[=================>       ]  ETA: 0:00:01\u001b[39m\u001b[K"
     ]
    },
    {
     "name": "stderr",
     "output_type": "stream",
     "text": [
      "\r\u001b[33mEvaluating over 10 folds: 100%[=========================] Time: 0:00:01\u001b[39m\u001b[K\n"
     ]
    },
    {
     "data": {
      "text/plain": [
       "PerformanceEvaluation object with these fields:\n",
       "  measure, operation, measurement, per_fold,\n",
       "  per_observation, fitted_params_per_fold,\n",
       "  report_per_fold, train_test_rows\n",
       "Extract:\n",
       "┌────────────┬──────────────┬─────────────┬─────────┬───────────────────────────\n",
       "│\u001b[22m measure    \u001b[0m│\u001b[22m operation    \u001b[0m│\u001b[22m measurement \u001b[0m│\u001b[22m 1.96*SE \u001b[0m│\u001b[22m per_fold                \u001b[0m ⋯\n",
       "├────────────┼──────────────┼─────────────┼─────────┼───────────────────────────\n",
       "│ Accuracy() │ predict_mode │ 0.759       │ 0.0136  │ [0.741, 0.777, 0.76, 0.7 ⋯\n",
       "└────────────┴──────────────┴─────────────┴─────────┴───────────────────────────\n",
       "\u001b[36m                                                                1 column omitted\u001b[0m\n"
      ]
     },
     "metadata": {},
     "output_type": "display_data"
    }
   ],
   "source": [
    "# @doc MLJScikitLearnInterface.KNeighborsClassifier\n",
    "\n",
    "Random.seed!(RANDOM_STATE)\n",
    "model = @load KNeighborsClassifier\n",
    "model = machine(model(),X_train,y_train)\n",
    "eval_results=evaluate!(model,rows=train_idx, resampling=CV(nfolds=10,shuffle=true,rng=RANDOM_STATE), measures=[MLJ.accuracy],operation=predict_mode)\n",
    "y_hat = predict_mode(model, rows=test_idx)\n",
    "test_results[\"KNeighbors\"] =  MLJ.accuracy(y_hat, y_train[test_idx])\n",
    "eval_results"
   ]
  },
  {
   "cell_type": "code",
   "execution_count": 18,
   "metadata": {},
   "outputs": [
    {
     "name": "stdout",
     "output_type": "stream",
     "text": [
      "import MLJScikitLearnInterface ✔"
     ]
    },
    {
     "name": "stderr",
     "output_type": "stream",
     "text": [
      "┌ Info: For silent loading, specify `verbosity=0`. \n",
      "└ @ Main C:\\Users\\Utsav\\.julia\\packages\\MLJModels\\OJDDo\\src\\loading.jl:159\n"
     ]
    },
    {
     "name": "stdout",
     "output_type": "stream",
     "text": [
      "\n"
     ]
    },
    {
     "name": "stderr",
     "output_type": "stream",
     "text": [
      "┌ Warning: The number and/or types of data arguments do not match what the specified model\n",
      "│ supports. Suppress this type check by specifying `scitype_check_level=0`.\n",
      "│ \n",
      "│ Run `@doc ScikitLearn.AdaBoostClassifier` to learn more about your model's requirements.\n",
      "│ \n",
      "│ Commonly, but non exclusively, supervised models are constructed using the syntax\n",
      "│ `machine(model, X, y)` or `machine(model, X, y, w)` while most other models are\n",
      "│ constructed with `machine(model, X)`.  Here `X` are features, `y` a target, and `w`\n",
      "│ sample or class weights.\n",
      "│ \n",
      "│ In general, data in `machine(model, data...)` is expected to satisfy\n",
      "│ \n",
      "│     scitype(data) <: MLJ.fit_data_scitype(model)\n",
      "│ \n",
      "│ In the present case:\n",
      "│ \n",
      "│ scitype(data) = Tuple{Table{Union{AbstractVector{Continuous}, AbstractVector{Multiclass{6561}}, AbstractVector{Multiclass{4}}, AbstractVector{Multiclass{3}}}}, AbstractVector{Multiclass{2}}}\n",
      "│ \n",
      "│ fit_data_scitype(model) = Tuple{Table{<:AbstractVector{<:Continuous}}, AbstractVector{<:Finite}}\n",
      "└ @ MLJBase C:\\Users\\Utsav\\.julia\\packages\\MLJBase\\WKVEo\\src\\machines.jl:230\n"
     ]
    },
    {
     "name": "stderr",
     "output_type": "stream",
     "text": [
      "┌ Info: Creating subsamples from a subset of all rows. \n",
      "└ @ MLJBase C:\\Users\\Utsav\\.julia\\packages\\MLJBase\\WKVEo\\src\\resampling.jl:601\n"
     ]
    },
    {
     "name": "stderr",
     "output_type": "stream",
     "text": [
      "\r\u001b[33mEvaluating over 10 folds:  20%[=====>                   ]  ETA: 0:00:05\u001b[39m\u001b[K"
     ]
    },
    {
     "name": "stderr",
     "output_type": "stream",
     "text": [
      "\r\u001b[33mEvaluating over 10 folds:  30%[=======>                 ]  ETA: 0:00:04\u001b[39m\u001b[K"
     ]
    },
    {
     "name": "stderr",
     "output_type": "stream",
     "text": [
      "\r\u001b[33mEvaluating over 10 folds:  40%[==========>              ]  ETA: 0:00:03\u001b[39m\u001b[K"
     ]
    },
    {
     "name": "stderr",
     "output_type": "stream",
     "text": [
      "\r\u001b[33mEvaluating over 10 folds:  50%[============>            ]  ETA: 0:00:02\u001b[39m\u001b[K"
     ]
    },
    {
     "name": "stderr",
     "output_type": "stream",
     "text": [
      "\r\u001b[33mEvaluating over 10 folds:  60%[===============>         ]  ETA: 0:00:02\u001b[39m\u001b[K"
     ]
    },
    {
     "name": "stderr",
     "output_type": "stream",
     "text": [
      "\r\u001b[33mEvaluating over 10 folds:  70%[=================>       ]  ETA: 0:00:01\u001b[39m\u001b[K"
     ]
    },
    {
     "name": "stderr",
     "output_type": "stream",
     "text": [
      "\r\u001b[33mEvaluating over 10 folds:  80%[====================>    ]  ETA: 0:00:01\u001b[39m\u001b[K"
     ]
    },
    {
     "name": "stderr",
     "output_type": "stream",
     "text": [
      "\r\u001b[33mEvaluating over 10 folds:  90%[======================>  ]  ETA: 0:00:00\u001b[39m\u001b[K"
     ]
    },
    {
     "name": "stderr",
     "output_type": "stream",
     "text": [
      "\r\u001b[33mEvaluating over 10 folds: 100%[=========================] Time: 0:00:03\u001b[39m\u001b[K\n"
     ]
    },
    {
     "data": {
      "text/plain": [
       "PerformanceEvaluation object with these fields:\n",
       "  measure, operation, measurement, per_fold,\n",
       "  per_observation, fitted_params_per_fold,\n",
       "  report_per_fold, train_test_rows\n",
       "Extract:\n",
       "┌────────────┬──────────────┬─────────────┬─────────┬───────────────────────────\n",
       "│\u001b[22m measure    \u001b[0m│\u001b[22m operation    \u001b[0m│\u001b[22m measurement \u001b[0m│\u001b[22m 1.96*SE \u001b[0m│\u001b[22m per_fold                \u001b[0m ⋯\n",
       "├────────────┼──────────────┼─────────────┼─────────┼───────────────────────────\n",
       "│ Accuracy() │ predict_mode │ 0.792       │ 0.0141  │ [0.784, 0.792, 0.818, 0. ⋯\n",
       "└────────────┴──────────────┴─────────────┴─────────┴───────────────────────────\n",
       "\u001b[36m                                                                1 column omitted\u001b[0m\n"
      ]
     },
     "metadata": {},
     "output_type": "display_data"
    }
   ],
   "source": [
    "# @doc MLJScikitLearnInterface.AdaBoostClassifier\n",
    "\n",
    "Random.seed!(RANDOM_STATE)\n",
    "model = @load AdaBoostClassifier\n",
    "model = machine(model(),X_train,y_train)\n",
    "eval_results=evaluate!(model,rows=train_idx, resampling=CV(nfolds=10,shuffle=true,rng=RANDOM_STATE), measures=[MLJ.accuracy],operation=predict_mode)\n",
    "y_hat = predict_mode(model, rows=test_idx)\n",
    "test_results[\"AdaBoost\"] =  MLJ.accuracy(y_hat, y_train[test_idx])\n",
    "eval_results"
   ]
  },
  {
   "cell_type": "code",
   "execution_count": 19,
   "metadata": {},
   "outputs": [
    {
     "name": "stdout",
     "output_type": "stream",
     "text": [
      "import MLJScikitLearnInterface ✔\n"
     ]
    },
    {
     "name": "stderr",
     "output_type": "stream",
     "text": [
      "┌ Info: For silent loading, specify `verbosity=0`. \n",
      "└ @ Main C:\\Users\\Utsav\\.julia\\packages\\MLJModels\\OJDDo\\src\\loading.jl:159\n"
     ]
    },
    {
     "name": "stderr",
     "output_type": "stream",
     "text": [
      "┌ Warning: The number and/or types of data arguments do not match what the specified model\n",
      "│ supports. Suppress this type check by specifying `scitype_check_level=0`.\n",
      "│ \n",
      "│ Run `@doc ScikitLearn.GradientBoostingClassifier` to learn more about your model's requirements.\n",
      "│ \n",
      "│ Commonly, but non exclusively, supervised models are constructed using the syntax\n",
      "│ `machine(model, X, y)` or `machine(model, X, y, w)` while most other models are\n",
      "│ constructed with `machine(model, X)`.  Here `X` are features, `y` a target, and `w`\n",
      "│ sample or class weights.\n",
      "│ \n",
      "│ In general, data in `machine(model, data...)` is expected to satisfy\n",
      "│ \n",
      "│     scitype(data) <: MLJ.fit_data_scitype(model)\n",
      "│ \n",
      "│ In the present case:\n",
      "│ \n",
      "│ scitype(data) = Tuple{Table{Union{AbstractVector{Continuous}, AbstractVector{Multiclass{6561}}, AbstractVector{Multiclass{4}}, AbstractVector{Multiclass{3}}}}, AbstractVector{Multiclass{2}}}\n",
      "│ \n",
      "│ fit_data_scitype(model) = Tuple{Table{<:AbstractVector{<:Continuous}}, AbstractVector{<:Finite}}\n",
      "└ @ MLJBase C:\\Users\\Utsav\\.julia\\packages\\MLJBase\\WKVEo\\src\\machines.jl:230\n",
      "┌ Info: Creating subsamples from a subset of all rows. \n",
      "└ @ MLJBase C:\\Users\\Utsav\\.julia\\packages\\MLJBase\\WKVEo\\src\\resampling.jl:601\n"
     ]
    },
    {
     "name": "stderr",
     "output_type": "stream",
     "text": [
      "C:\\Users\\Utsav\\.julia\\conda\\3\\lib\\site-packages\\sklearn\\utils\\deprecation.py:101: FutureWarning: Attribute `loss_` was deprecated in version 1.1 and will be removed in 1.3.\r\n",
      "  warnings.warn(msg, category=FutureWarning)\r\n",
      "C:\\Users\\Utsav\\.julia\\conda\\3\\lib\\site-packages\\sklearn\\utils\\deprecation.py:101: FutureWarning: Attribute `loss_` was deprecated in version 1.1 and will be removed in 1.3.\r\n",
      "  warnings.warn(msg, category=FutureWarning)\r\n",
      "\r\u001b[33mEvaluating over 10 folds:  20%[=====>                   ]  ETA: 0:00:10\u001b[39m\u001b[K"
     ]
    },
    {
     "name": "stderr",
     "output_type": "stream",
     "text": [
      "C:\\Users\\Utsav\\.julia\\conda\\3\\lib\\site-packages\\sklearn\\utils\\deprecation.py:101: FutureWarning: Attribute `loss_` was deprecated in version 1.1 and will be removed in 1.3.\r\n",
      "  warnings.warn(msg, category=FutureWarning)\r\n",
      "\r\u001b[33mEvaluating over 10 folds:  30%[=======>                 ]  ETA: 0:00:08\u001b[39m\u001b[K"
     ]
    },
    {
     "name": "stderr",
     "output_type": "stream",
     "text": [
      "C:\\Users\\Utsav\\.julia\\conda\\3\\lib\\site-packages\\sklearn\\utils\\deprecation.py:101: FutureWarning: Attribute `loss_` was deprecated in version 1.1 and will be removed in 1.3.\r\n",
      "  warnings.warn(msg, category=FutureWarning)\r\n",
      "\r\u001b[33mEvaluating over 10 folds:  40%[==========>              ]  ETA: 0:00:06\u001b[39m\u001b[K"
     ]
    },
    {
     "name": "stderr",
     "output_type": "stream",
     "text": [
      "C:\\Users\\Utsav\\.julia\\conda\\3\\lib\\site-packages\\sklearn\\utils\\deprecation.py:101: FutureWarning: Attribute `loss_` was deprecated in version 1.1 and will be removed in 1.3.\r\n",
      "  warnings.warn(msg, category=FutureWarning)\r\n",
      "\r\u001b[33mEvaluating over 10 folds:  50%[============>            ]  ETA: 0:00:05\u001b[39m\u001b[K"
     ]
    },
    {
     "name": "stderr",
     "output_type": "stream",
     "text": [
      "C:\\Users\\Utsav\\.julia\\conda\\3\\lib\\site-packages\\sklearn\\utils\\deprecation.py:101: FutureWarning: Attribute `loss_` was deprecated in version 1.1 and will be removed in 1.3.\r\n",
      "  warnings.warn(msg, category=FutureWarning)\r\n",
      "\r\u001b[33mEvaluating over 10 folds:  60%[===============>         ]  ETA: 0:00:04\u001b[39m\u001b[K"
     ]
    },
    {
     "name": "stderr",
     "output_type": "stream",
     "text": [
      "C:\\Users\\Utsav\\.julia\\conda\\3\\lib\\site-packages\\sklearn\\utils\\deprecation.py:101: FutureWarning: Attribute `loss_` was deprecated in version 1.1 and will be removed in 1.3.\r\n",
      "  warnings.warn(msg, category=FutureWarning)\r\n",
      "\r\u001b[33mEvaluating over 10 folds:  70%[=================>       ]  ETA: 0:00:03\u001b[39m\u001b[K"
     ]
    },
    {
     "name": "stderr",
     "output_type": "stream",
     "text": [
      "C:\\Users\\Utsav\\.julia\\conda\\3\\lib\\site-packages\\sklearn\\utils\\deprecation.py:101: FutureWarning: Attribute `loss_` was deprecated in version 1.1 and will be removed in 1.3.\r\n",
      "  warnings.warn(msg, category=FutureWarning)\r\n",
      "\r\u001b[33mEvaluating over 10 folds:  80%[====================>    ]  ETA: 0:00:02\u001b[39m\u001b[K"
     ]
    },
    {
     "name": "stderr",
     "output_type": "stream",
     "text": [
      "C:\\Users\\Utsav\\.julia\\conda\\3\\lib\\site-packages\\sklearn\\utils\\deprecation.py:101: FutureWarning: Attribute `loss_` was deprecated in version 1.1 and will be removed in 1.3.\r\n",
      "  warnings.warn(msg, category=FutureWarning)\r\n",
      "\r\u001b[33mEvaluating over 10 folds:  90%[======================>  ]  ETA: 0:00:01\u001b[39m\u001b[K"
     ]
    },
    {
     "name": "stderr",
     "output_type": "stream",
     "text": [
      "C:\\Users\\Utsav\\.julia\\conda\\3\\lib\\site-packages\\sklearn\\utils\\deprecation.py:101: FutureWarning: Attribute `loss_` was deprecated in version 1.1 and will be removed in 1.3.\r\n",
      "  warnings.warn(msg, category=FutureWarning)\r\n",
      "\r\u001b[33mEvaluating over 10 folds: 100%[=========================] Time: 0:00:09\u001b[39m\u001b[K\n"
     ]
    },
    {
     "data": {
      "text/plain": [
       "PerformanceEvaluation object with these fields:\n",
       "  measure, operation, measurement, per_fold,\n",
       "  per_observation, fitted_params_per_fold,\n",
       "  report_per_fold, train_test_rows\n",
       "Extract:\n",
       "┌────────────┬──────────────┬─────────────┬─────────┬───────────────────────────\n",
       "│\u001b[22m measure    \u001b[0m│\u001b[22m operation    \u001b[0m│\u001b[22m measurement \u001b[0m│\u001b[22m 1.96*SE \u001b[0m│\u001b[22m per_fold                \u001b[0m ⋯\n",
       "├────────────┼──────────────┼─────────────┼─────────┼───────────────────────────\n",
       "│ Accuracy() │ predict_mode │ 0.795       │ 0.0155  │ [0.796, 0.797, 0.799, 0. ⋯\n",
       "└────────────┴──────────────┴─────────────┴─────────┴───────────────────────────\n",
       "\u001b[36m                                                                1 column omitted\u001b[0m\n"
      ]
     },
     "metadata": {},
     "output_type": "display_data"
    }
   ],
   "source": [
    "# @doc MLJScikitLearnInterface.GradientBoostingClassifier\n",
    "\n",
    "Random.seed!(RANDOM_STATE)\n",
    "model = @load GradientBoostingClassifier\n",
    "model = machine(model(),X_train,y_train)\n",
    "eval_results=evaluate!(model,rows=train_idx, resampling=CV(nfolds=10,shuffle=true,rng=RANDOM_STATE), measures=[MLJ.accuracy],operation=predict_mode)\n",
    "y_hat = predict_mode(model, rows=test_idx)\n",
    "test_results[\"GradientBoosting\"] =  MLJ.accuracy(y_hat, y_train[test_idx])\n",
    "eval_results"
   ]
  },
  {
   "cell_type": "code",
   "execution_count": 20,
   "metadata": {},
   "outputs": [
    {
     "data": {
      "text/plain": [
       "7-element Vector{Pair{Any, Any}}:\n",
       "     \"DecisionTree\" => 0.7303047728579644\n",
       "       \"KNeighbors\" => 0.750431282346176\n",
       "         \"Logistic\" => 0.7763082231167338\n",
       "       \"ExtraTrees\" => 0.7918343875790684\n",
       "         \"AdaBoost\" => 0.7935595169637722\n",
       "     \"RandomForest\" => 0.7941345600920069\n",
       " \"GradientBoosting\" => 0.8050603795284647"
      ]
     },
     "metadata": {},
     "output_type": "display_data"
    }
   ],
   "source": [
    "sort(collect(test_results),by = x->x[2])"
   ]
  },
  {
   "cell_type": "code",
   "execution_count": 21,
   "metadata": {},
   "outputs": [],
   "source": [
    "#checking fitting parameters for possible best model\n",
    "report(model)"
   ]
  },
  {
   "cell_type": "code",
   "execution_count": 22,
   "metadata": {},
   "outputs": [
    {
     "data": {
      "text/plain": [
       "4277-element CategoricalDistributions.UnivariateFiniteVector{Multiclass{2}, Bool, UInt32, Float64}:\n",
       " UnivariateFinite{Multiclass{2}}(false=>0.365, true=>0.635)\n",
       " UnivariateFinite{Multiclass{2}}(false=>0.894, true=>0.106)\n",
       " UnivariateFinite{Multiclass{2}}(false=>0.115, true=>0.885)\n",
       " UnivariateFinite{Multiclass{2}}(false=>0.156, true=>0.844)\n",
       " UnivariateFinite{Multiclass{2}}(false=>0.472, true=>0.528)\n",
       " UnivariateFinite{Multiclass{2}}(false=>0.398, true=>0.602)\n",
       " UnivariateFinite{Multiclass{2}}(false=>0.115, true=>0.885)\n",
       " UnivariateFinite{Multiclass{2}}(false=>0.132, true=>0.868)\n",
       " UnivariateFinite{Multiclass{2}}(false=>0.115, true=>0.885)\n",
       " UnivariateFinite{Multiclass{2}}(false=>0.53, true=>0.47)\n",
       " ⋮\n",
       " UnivariateFinite{Multiclass{2}}(false=>0.495, true=>0.505)\n",
       " UnivariateFinite{Multiclass{2}}(false=>0.359, true=>0.641)\n",
       " UnivariateFinite{Multiclass{2}}(false=>0.0982, true=>0.902)\n",
       " UnivariateFinite{Multiclass{2}}(false=>0.437, true=>0.563)\n",
       " UnivariateFinite{Multiclass{2}}(false=>0.365, true=>0.635)\n",
       " UnivariateFinite{Multiclass{2}}(false=>0.691, true=>0.309)\n",
       " UnivariateFinite{Multiclass{2}}(false=>0.161, true=>0.839)\n",
       " UnivariateFinite{Multiclass{2}}(false=>0.412, true=>0.588)\n",
       " UnivariateFinite{Multiclass{2}}(false=>0.389, true=>0.611)"
      ]
     },
     "metadata": {},
     "output_type": "display_data"
    }
   ],
   "source": [
    "y_sub = MLJ.predict(model,test)\n",
    "y_sub"
   ]
  },
  {
   "cell_type": "code",
   "execution_count": 24,
   "metadata": {},
   "outputs": [],
   "source": [
    "# function load_model(name)\n",
    "#     model = missing\n",
    "#     if (name == \"DecisionTree\" )\n",
    "#         model = @load DecisionTreeClassifier pkg=DecisionTree\n",
    "#         # model = model()\n",
    "#     elseif (name == \"RandomForest\")\n",
    "#         model = @load RandomForestClassifier pkg=DecisionTree\n",
    "#         # model = model()\n",
    "#     elseif (name == \"ExtraTrees\")\n",
    "#         model = @load ExtraTreesClassifier pkg=ScikitLearn\n",
    "#         # model = model()\n",
    "#     elseif (name == \"Logistic\")\n",
    "#         model = @load LogisticClassifier pkg=ScikitLearn\n",
    "#         # model = model()\n",
    "#     elseif (name == \"KNeighbors\")\n",
    "#         model = @load KNeighborsClassifier pkg=ScikitLearn\n",
    "#         # model = model()\n",
    "#     elseif (name == \"AdaBoost\")\n",
    "#         model = @load AdaBoostClassifier pkg=ScikitLearn\n",
    "#         # model = model()\n",
    "#     elseif (name == \"GradientBoosting\")\n",
    "#         model = @load GradientBoostingClassifier pkg=ScikitLearn\n",
    "#         # model = model()\n",
    "#     else \n",
    "#         throw(DomainError(name,\"Invalid Model Name\"))\n",
    "#     end\n",
    "#     model\n",
    "# end"
   ]
  },
  {
   "cell_type": "code",
   "execution_count": 34,
   "metadata": {},
   "outputs": [
    {
     "data": {
      "text/plain": [
       "setup_model (generic function with 1 method)"
      ]
     },
     "metadata": {},
     "output_type": "display_data"
    }
   ],
   "source": [
    "function load_model(name)\n",
    "    model = missing\n",
    "    if name == \"DecisionTree\" \n",
    "        model = @load DecisionTreeClassifier pkg=DecisionTree\n",
    "        # model = model()\n",
    "    elseif name == \"RandomForest\"\n",
    "        model = @load RandomForestClassifier pkg=DecisionTree\n",
    "        # model = model()\n",
    "    elseif name == \"ExtraTrees\"\n",
    "        model = @load ExtraTreesClassifier pkg=ScikitLearn\n",
    "        # model = model()\n",
    "    elseif name == \"Logistic\"\n",
    "        model = @load LogisticClassifier pkg=ScikitLearn\n",
    "        # model = model()\n",
    "    elseif name == \"KNeighbors\"\n",
    "        model = @load KNeighborsClassifier pkg=ScikitLearn\n",
    "        # model = model()\n",
    "    elseif name == \"AdaBoost\"\n",
    "        model = @load AdaBoostClassifier pkg=ScikitLearn\n",
    "        # model = model()\n",
    "    elseif name == \"GradientBoosting\"\n",
    "        model = @load GradientBoostingClassifier pkg=ScikitLearn\n",
    "        # model = model()\n",
    "    else \n",
    "        throw(DomainError(name,\"Invalid Model Name\"))\n",
    "    end\n",
    "    model\n",
    "end\n",
    "\n",
    "function setup_model(name,X,y)\n",
    "    # model_preprocessing()\n",
    "    model = load_model(name)\n",
    "    model = machine(model(),X,y)\n",
    "    model\n",
    "end"
   ]
  },
  {
   "cell_type": "code",
   "execution_count": 51,
   "metadata": {},
   "outputs": [
    {
     "data": {
      "text/plain": [
       "predict (generic function with 1 method)"
      ]
     },
     "metadata": {},
     "output_type": "display_data"
    }
   ],
   "source": []
  },
  {
   "cell_type": "code",
   "execution_count": 58,
   "metadata": {},
   "outputs": [
    {
     "name": "stdout",
     "output_type": "stream",
     "text": [
      "import MLJDecisionTreeInterface ✔\n"
     ]
    },
    {
     "name": "stderr",
     "output_type": "stream",
     "text": [
      "┌ Info: For silent loading, specify `verbosity=0`. \n",
      "└ @ Main C:\\Users\\Utsav\\.julia\\packages\\MLJModels\\OJDDo\\src\\loading.jl:159\n",
      "┌ Warning: The number and/or types of data arguments do not match what the specified model\n",
      "│ supports. Suppress this type check by specifying `scitype_check_level=0`.\n",
      "│ \n",
      "│ Run `@doc DecisionTree.DecisionTreeClassifier` to learn more about your model's requirements.\n",
      "│ \n",
      "│ Commonly, but non exclusively, supervised models are constructed using the syntax\n",
      "│ `machine(model, X, y)` or `machine(model, X, y, w)` while most other models are\n",
      "│ constructed with `machine(model, X)`.  Here `X` are features, `y` a target, and `w`\n",
      "│ sample or class weights.\n",
      "│ \n",
      "│ In general, data in `machine(model, data...)` is expected to satisfy\n",
      "│ \n",
      "│     scitype(data) <: MLJ.fit_data_scitype(model)\n",
      "│ \n",
      "│ In the present case:\n",
      "│ \n",
      "│ scitype(data) = Tuple{Table{Union{AbstractVector{Continuous}, AbstractVector{Multiclass{6561}}, AbstractVector{Multiclass{4}}, AbstractVector{Multiclass{3}}}}, AbstractVector{Multiclass{2}}}\n",
      "│ \n",
      "│ fit_data_scitype(model) = Tuple{Table{<:Union{AbstractVector{<:Continuous}, AbstractVector{<:Count}, AbstractVector{<:OrderedFactor}}}, AbstractVector{<:Finite}}\n",
      "└ @ MLJBase C:\\Users\\Utsav\\.julia\\packages\\MLJBase\\WKVEo\\src\\machines.jl:230\n",
      "┌ Info: Creating subsamples from a subset of all rows. \n",
      "└ @ MLJBase C:\\Users\\Utsav\\.julia\\packages\\MLJBase\\WKVEo\\src\\resampling.jl:601\n"
     ]
    },
    {
     "name": "stderr",
     "output_type": "stream",
     "text": [
      "\r\u001b[33mEvaluating over 10 folds:  30%[=======>                 ]  ETA: 0:00:00\u001b[39m\u001b[K"
     ]
    },
    {
     "name": "stderr",
     "output_type": "stream",
     "text": [
      "\r\u001b[33mEvaluating over 10 folds:  60%[===============>         ]  ETA: 0:00:00\u001b[39m\u001b[K"
     ]
    },
    {
     "name": "stderr",
     "output_type": "stream",
     "text": [
      "\r\u001b[33mEvaluating over 10 folds:  90%[======================>  ]  ETA: 0:00:00\u001b[39m\u001b[K"
     ]
    },
    {
     "name": "stderr",
     "output_type": "stream",
     "text": [
      "\r\u001b[33mEvaluating over 10 folds: 100%[=========================] Time: 0:00:00\u001b[39m\u001b[K\n"
     ]
    },
    {
     "name": "stdout",
     "output_type": "stream",
     "text": [
      "DecisionTree 10 Folds :\n",
      " [[0.7183908045977012, 0.7126436781609196, 0.742816091954023, 0.7227011494252873, 0.7309352517985612, 0.7352517985611511, 0.7050359712230216, 0.7093525179856115, 0.6474820143884892, 0.7482014388489209]]\n",
      "\n",
      "\n",
      "\n"
     ]
    },
    {
     "name": "stdout",
     "output_type": "stream",
     "text": [
      "import MLJDecisionTreeInterface ✔\n"
     ]
    },
    {
     "name": "stderr",
     "output_type": "stream",
     "text": [
      "┌ Info: For silent loading, specify `verbosity=0`. \n",
      "└ @ Main C:\\Users\\Utsav\\.julia\\packages\\MLJModels\\OJDDo\\src\\loading.jl:159\n",
      "┌ Warning: The number and/or types of data arguments do not match what the specified model\n",
      "│ supports. Suppress this type check by specifying `scitype_check_level=0`.\n",
      "│ \n",
      "│ Run `@doc DecisionTree.RandomForestClassifier` to learn more about your model's requirements.\n",
      "│ \n",
      "│ Commonly, but non exclusively, supervised models are constructed using the syntax\n",
      "│ `machine(model, X, y)` or `machine(model, X, y, w)` while most other models are\n",
      "│ constructed with `machine(model, X)`.  Here `X` are features, `y` a target, and `w`\n",
      "│ sample or class weights.\n",
      "│ \n",
      "│ In general, data in `machine(model, data...)` is expected to satisfy\n",
      "│ \n",
      "│     scitype(data) <: MLJ.fit_data_scitype(model)\n",
      "│ \n",
      "│ In the present case:\n",
      "│ \n",
      "│ scitype(data) = Tuple{Table{Union{AbstractVector{Continuous}, AbstractVector{Multiclass{6561}}, AbstractVector{Multiclass{4}}, AbstractVector{Multiclass{3}}}}, AbstractVector{Multiclass{2}}}\n",
      "│ \n",
      "│ fit_data_scitype(model) = Tuple{Table{<:Union{AbstractVector{<:Continuous}, AbstractVector{<:Count}, AbstractVector{<:OrderedFactor}}}, AbstractVector{<:Finite}}\n",
      "└ @ MLJBase C:\\Users\\Utsav\\.julia\\packages\\MLJBase\\WKVEo\\src\\machines.jl:230\n"
     ]
    },
    {
     "name": "stderr",
     "output_type": "stream",
     "text": [
      "┌ Info: Creating subsamples from a subset of all rows. \n",
      "└ @ MLJBase C:\\Users\\Utsav\\.julia\\packages\\MLJBase\\WKVEo\\src\\resampling.jl:601\n"
     ]
    },
    {
     "name": "stderr",
     "output_type": "stream",
     "text": [
      "\r\u001b[33mEvaluating over 10 folds:  20%[=====>                   ]  ETA: 0:00:05\u001b[39m\u001b[K"
     ]
    },
    {
     "name": "stderr",
     "output_type": "stream",
     "text": [
      "\r\u001b[33mEvaluating over 10 folds:  30%[=======>                 ]  ETA: 0:00:04\u001b[39m\u001b[K"
     ]
    },
    {
     "name": "stderr",
     "output_type": "stream",
     "text": [
      "\r\u001b[33mEvaluating over 10 folds:  40%[==========>              ]  ETA: 0:00:04\u001b[39m\u001b[K"
     ]
    },
    {
     "name": "stderr",
     "output_type": "stream",
     "text": [
      "\r\u001b[33mEvaluating over 10 folds:  50%[============>            ]  ETA: 0:00:03\u001b[39m\u001b[K"
     ]
    },
    {
     "name": "stderr",
     "output_type": "stream",
     "text": [
      "\r\u001b[33mEvaluating over 10 folds:  60%[===============>         ]  ETA: 0:00:03\u001b[39m\u001b[K"
     ]
    },
    {
     "name": "stderr",
     "output_type": "stream",
     "text": [
      "\r\u001b[33mEvaluating over 10 folds:  70%[=================>       ]  ETA: 0:00:02\u001b[39m\u001b[K"
     ]
    },
    {
     "name": "stderr",
     "output_type": "stream",
     "text": [
      "\r\u001b[33mEvaluating over 10 folds:  80%[====================>    ]  ETA: 0:00:01\u001b[39m\u001b[K"
     ]
    },
    {
     "name": "stderr",
     "output_type": "stream",
     "text": [
      "\r\u001b[33mEvaluating over 10 folds:  90%[======================>  ]  ETA: 0:00:01\u001b[39m\u001b[K"
     ]
    },
    {
     "name": "stderr",
     "output_type": "stream",
     "text": [
      "\r\u001b[33mEvaluating over 10 folds: 100%[=========================] Time: 0:00:06\u001b[39m\u001b[K\n"
     ]
    },
    {
     "name": "stdout",
     "output_type": "stream",
     "text": [
      "RandomForest 10 Folds :\n",
      " [[0.7873563218390804, 0.7945402298850575, 0.7887931034482758, 0.771551724137931, 0.8086330935251799, 0.781294964028777, 0.7611510791366907, 0.7741007194244605, 0.7467625899280576, 0.8302158273381295]]\n",
      "\n",
      "\n",
      "\n"
     ]
    },
    {
     "name": "stdout",
     "output_type": "stream",
     "text": [
      "import MLJScikitLearnInterface ✔\n"
     ]
    },
    {
     "name": "stderr",
     "output_type": "stream",
     "text": [
      "┌ Info: For silent loading, specify `verbosity=0`. \n",
      "└ @ Main C:\\Users\\Utsav\\.julia\\packages\\MLJModels\\OJDDo\\src\\loading.jl:159\n",
      "┌ Warning: The number and/or types of data arguments do not match what the specified model\n",
      "│ supports. Suppress this type check by specifying `scitype_check_level=0`.\n",
      "│ \n",
      "│ Run `@doc ScikitLearn.ExtraTreesClassifier` to learn more about your model's requirements.\n",
      "│ \n",
      "│ Commonly, but non exclusively, supervised models are constructed using the syntax\n",
      "│ `machine(model, X, y)` or `machine(model, X, y, w)` while most other models are\n",
      "│ constructed with `machine(model, X)`.  Here `X` are features, `y` a target, and `w`\n",
      "│ sample or class weights.\n",
      "│ \n",
      "│ In general, data in `machine(model, data...)` is expected to satisfy\n",
      "│ \n",
      "│     scitype(data) <: MLJ.fit_data_scitype(model)\n",
      "│ \n",
      "│ In the present case:\n",
      "│ \n",
      "│ scitype(data) = Tuple{Table{Union{AbstractVector{Continuous}, AbstractVector{Multiclass{6561}}, AbstractVector{Multiclass{4}}, AbstractVector{Multiclass{3}}}}, AbstractVector{Multiclass{2}}}\n",
      "│ \n",
      "│ fit_data_scitype(model) = Tuple{Table{<:AbstractVector{<:Continuous}}, AbstractVector{<:Finite}}\n",
      "└ @ MLJBase C:\\Users\\Utsav\\.julia\\packages\\MLJBase\\WKVEo\\src\\machines.jl:230\n"
     ]
    },
    {
     "name": "stderr",
     "output_type": "stream",
     "text": [
      "┌ Info: Creating subsamples from a subset of all rows. \n",
      "└ @ MLJBase C:\\Users\\Utsav\\.julia\\packages\\MLJBase\\WKVEo\\src\\resampling.jl:601\n",
      "\r\u001b[33mEvaluating over 10 folds:  20%[=====>                   ]  ETA: 0:00:06\u001b[39m\u001b[K"
     ]
    },
    {
     "name": "stderr",
     "output_type": "stream",
     "text": [
      "\r\u001b[33mEvaluating over 10 folds:  30%[=======>                 ]  ETA: 0:00:05\u001b[39m\u001b[K"
     ]
    },
    {
     "name": "stderr",
     "output_type": "stream",
     "text": [
      "\r\u001b[33mEvaluating over 10 folds:  40%[==========>              ]  ETA: 0:00:04\u001b[39m\u001b[K"
     ]
    },
    {
     "name": "stderr",
     "output_type": "stream",
     "text": [
      "\r\u001b[33mEvaluating over 10 folds:  50%[============>            ]  ETA: 0:00:03\u001b[39m\u001b[K"
     ]
    },
    {
     "name": "stderr",
     "output_type": "stream",
     "text": [
      "\r\u001b[33mEvaluating over 10 folds:  60%[===============>         ]  ETA: 0:00:03\u001b[39m\u001b[K"
     ]
    },
    {
     "name": "stderr",
     "output_type": "stream",
     "text": [
      "\r\u001b[33mEvaluating over 10 folds:  70%[=================>       ]  ETA: 0:00:02\u001b[39m\u001b[K"
     ]
    },
    {
     "name": "stderr",
     "output_type": "stream",
     "text": [
      "\r\u001b[33mEvaluating over 10 folds:  80%[====================>    ]  ETA: 0:00:01\u001b[39m\u001b[K"
     ]
    },
    {
     "name": "stderr",
     "output_type": "stream",
     "text": [
      "\r\u001b[33mEvaluating over 10 folds:  90%[======================>  ]  ETA: 0:00:01\u001b[39m\u001b[K"
     ]
    },
    {
     "name": "stderr",
     "output_type": "stream",
     "text": [
      "\r\u001b[33mEvaluating over 10 folds: 100%[=========================] Time: 0:00:06\u001b[39m\u001b[K\n"
     ]
    },
    {
     "name": "stdout",
     "output_type": "stream",
     "text": [
      "ExtraTrees 10 Folds :\n",
      " [[0.7916666666666666, 0.7844827586206897, 0.7945402298850575, 0.7787356321839081, 0.8057553956834532, 0.7769784172661871, 0.7467625899280576, 0.7726618705035971, 0.7424460431654676, 0.8100719424460432]]\n",
      "\n",
      "\n",
      "\n"
     ]
    },
    {
     "name": "stdout",
     "output_type": "stream",
     "text": [
      "import MLJScikitLearnInterface ✔\n"
     ]
    },
    {
     "name": "stderr",
     "output_type": "stream",
     "text": [
      "┌ Info: For silent loading, specify `verbosity=0`. \n",
      "└ @ Main C:\\Users\\Utsav\\.julia\\packages\\MLJModels\\OJDDo\\src\\loading.jl:159\n",
      "┌ Warning: The number and/or types of data arguments do not match what the specified model\n",
      "│ supports. Suppress this type check by specifying `scitype_check_level=0`.\n",
      "│ \n",
      "│ Run `@doc ScikitLearn.LogisticClassifier` to learn more about your model's requirements.\n",
      "│ \n",
      "│ Commonly, but non exclusively, supervised models are constructed using the syntax\n",
      "│ `machine(model, X, y)` or `machine(model, X, y, w)` while most other models are\n",
      "│ constructed with `machine(model, X)`.  Here `X` are features, `y` a target, and `w`\n",
      "│ sample or class weights.\n",
      "│ \n",
      "│ In general, data in `machine(model, data...)` is expected to satisfy\n",
      "│ \n",
      "│     scitype(data) <: MLJ.fit_data_scitype(model)\n",
      "│ \n",
      "│ In the present case:\n",
      "│ \n",
      "│ scitype(data) = Tuple{Table{Union{AbstractVector{Continuous}, AbstractVector{Multiclass{6561}}, AbstractVector{Multiclass{4}}, AbstractVector{Multiclass{3}}}}, AbstractVector{Multiclass{2}}}\n",
      "│ \n",
      "│ fit_data_scitype(model) = Tuple{Table{<:AbstractVector{<:Continuous}}, AbstractVector{<:Finite}}\n",
      "└ @ MLJBase C:\\Users\\Utsav\\.julia\\packages\\MLJBase\\WKVEo\\src\\machines.jl:230\n",
      "┌ Info: Creating subsamples from a subset of all rows. \n",
      "└ @ MLJBase C:\\Users\\Utsav\\.julia\\packages\\MLJBase\\WKVEo\\src\\resampling.jl:601\n",
      "C:\\Users\\Utsav\\.julia\\conda\\3\\lib\\site-packages\\sklearn\\linear_model\\_logistic.py:458: ConvergenceWarning: lbfgs failed to converge (status=1):\r\n",
      "STOP: TOTAL NO. of ITERATIONS REACHED LIMIT.\r\n",
      "\r\n",
      "Increase the number of iterations (max_iter) or scale the data as shown in:\r\n",
      "    https://scikit-learn.org/stable/modules/preprocessing.html\r\n",
      "Please also refer to the documentation for alternative solver options:\r\n",
      "    https://scikit-learn.org/stable/modules/linear_model.html#logistic-regression\r\n",
      "  n_iter_i = _check_optimize_result(\r\n",
      "C:\\Users\\Utsav\\.julia\\conda\\3\\lib\\site-packages\\sklearn\\linear_model\\_logistic.py:458: ConvergenceWarning: lbfgs failed to converge (status=1):\r\n",
      "STOP: TOTAL NO. of ITERATIONS REACHED LIMIT.\r\n",
      "\r\n",
      "Increase the number of iterations (max_iter) or scale the data as shown in:\r\n",
      "    https://scikit-learn.org/stable/modules/preprocessing.html\r\n",
      "Please also refer to the documentation for alternative solver options:\r\n",
      "    https://scikit-learn.org/stable/modules/linear_model.html#logistic-regression\r\n",
      "  n_iter_i = _check_optimize_result(\r\n",
      "C:\\Users\\Utsav\\.julia\\conda\\3\\lib\\site-packages\\sklearn\\linear_model\\_logistic.py:458: ConvergenceWarning: lbfgs failed to converge (status=1):\r\n",
      "STOP: TOTAL NO. of ITERATIONS REACHED LIMIT.\r\n",
      "\r\n",
      "Increase the number of iterations (max_iter) or scale the data as shown in:\r\n",
      "    https://scikit-learn.org/stable/modules/preprocessing.html\r\n",
      "Please also refer to the documentation for alternative solver options:\r\n",
      "    https://scikit-learn.org/stable/modules/linear_model.html#logistic-regression\r\n",
      "  n_iter_i = _check_optimize_result(\r\n"
     ]
    },
    {
     "name": "stderr",
     "output_type": "stream",
     "text": [
      "\r\u001b[33mEvaluating over 10 folds:  30%[=======>                 ]  ETA: 0:00:00\u001b[39m\u001b[K"
     ]
    },
    {
     "name": "stderr",
     "output_type": "stream",
     "text": [
      "C:\\Users\\Utsav\\.julia\\conda\\3\\lib\\site-packages\\sklearn\\linear_model\\_logistic.py:458: ConvergenceWarning: lbfgs failed to converge (status=1):\r\n",
      "STOP: TOTAL NO. of ITERATIONS REACHED LIMIT.\r\n",
      "\r\n",
      "Increase the number of iterations (max_iter) or scale the data as shown in:\r\n",
      "    https://scikit-learn.org/stable/modules/preprocessing.html\r\n",
      "Please also refer to the documentation for alternative solver options:\r\n",
      "    https://scikit-learn.org/stable/modules/linear_model.html#logistic-regression\r\n",
      "  n_iter_i = _check_optimize_result(\r\n",
      "C:\\Users\\Utsav\\.julia\\conda\\3\\lib\\site-packages\\sklearn\\linear_model\\_logistic.py:458: ConvergenceWarning: lbfgs failed to converge (status=1):\r\n",
      "STOP: TOTAL NO. of ITERATIONS REACHED LIMIT.\r\n",
      "\r\n",
      "Increase the number of iterations (max_iter) or scale the data as shown in:\r\n",
      "    https://scikit-learn.org/stable/modules/preprocessing.html\r\n",
      "Please also refer to the documentation for alternative solver options:\r\n",
      "    https://scikit-learn.org/stable/modules/linear_model.html#logistic-regression\r\n",
      "  n_iter_i = _check_optimize_result(\r\n",
      "\r\u001b[33mEvaluating over 10 folds:  50%[============>            ]  ETA: 0:00:00\u001b[39m\u001b[K"
     ]
    },
    {
     "name": "stderr",
     "output_type": "stream",
     "text": [
      "C:\\Users\\Utsav\\.julia\\conda\\3\\lib\\site-packages\\sklearn\\linear_model\\_logistic.py:458: ConvergenceWarning: lbfgs failed to converge (status=1):\r\n",
      "STOP: TOTAL NO. of ITERATIONS REACHED LIMIT.\r\n",
      "\r\n",
      "Increase the number of iterations (max_iter) or scale the data as shown in:\r\n",
      "    https://scikit-learn.org/stable/modules/preprocessing.html\r\n",
      "Please also refer to the documentation for alternative solver options:\r\n",
      "    https://scikit-learn.org/stable/modules/linear_model.html#logistic-regression\r\n",
      "  n_iter_i = _check_optimize_result(\r\n",
      "C:\\Users\\Utsav\\.julia\\conda\\3\\lib\\site-packages\\sklearn\\linear_model\\_logistic.py:458: ConvergenceWarning: lbfgs failed to converge (status=1):\r\n",
      "STOP: TOTAL NO. of ITERATIONS REACHED LIMIT.\r\n",
      "\r\n",
      "Increase the number of iterations (max_iter) or scale the data as shown in:\r\n",
      "    https://scikit-learn.org/stable/modules/preprocessing.html\r\n",
      "Please also refer to the documentation for alternative solver options:\r\n",
      "    https://scikit-learn.org/stable/modules/linear_model.html#logistic-regression\r\n",
      "  n_iter_i = _check_optimize_result(\r\n",
      "C:\\Users\\Utsav\\.julia\\conda\\3\\lib\\site-packages\\sklearn\\linear_model\\_logistic.py:458: ConvergenceWarning: lbfgs failed to converge (status=1):\r\n",
      "STOP: TOTAL NO. of ITERATIONS REACHED LIMIT.\r\n",
      "\r\n",
      "Increase the number of iterations (max_iter) or scale the data as shown in:\r\n",
      "    https://scikit-learn.org/stable/modules/preprocessing.html\r\n",
      "Please also refer to the documentation for alternative solver options:\r\n",
      "    https://scikit-learn.org/stable/modules/linear_model.html#logistic-regression\r\n",
      "  n_iter_i = _check_optimize_result(\r\n",
      "\r\u001b[33mEvaluating over 10 folds:  80%[====================>    ]  ETA: 0:00:00\u001b[39m\u001b[K"
     ]
    },
    {
     "name": "stderr",
     "output_type": "stream",
     "text": [
      "C:\\Users\\Utsav\\.julia\\conda\\3\\lib\\site-packages\\sklearn\\linear_model\\_logistic.py:458: ConvergenceWarning: lbfgs failed to converge (status=1):\r\n",
      "STOP: TOTAL NO. of ITERATIONS REACHED LIMIT.\r\n",
      "\r\n",
      "Increase the number of iterations (max_iter) or scale the data as shown in:\r\n",
      "    https://scikit-learn.org/stable/modules/preprocessing.html\r\n",
      "Please also refer to the documentation for alternative solver options:\r\n",
      "    https://scikit-learn.org/stable/modules/linear_model.html#logistic-regression\r\n",
      "  n_iter_i = _check_optimize_result(\r\n",
      "C:\\Users\\Utsav\\.julia\\conda\\3\\lib\\site-packages\\sklearn\\linear_model\\_logistic.py:458: ConvergenceWarning: lbfgs failed to converge (status=1):\r\n",
      "STOP: TOTAL NO. of ITERATIONS REACHED LIMIT.\r\n",
      "\r\n",
      "Increase the number of iterations (max_iter) or scale the data as shown in:\r\n",
      "    https://scikit-learn.org/stable/modules/preprocessing.html\r\n",
      "Please also refer to the documentation for alternative solver options:\r\n",
      "    https://scikit-learn.org/stable/modules/linear_model.html#logistic-regression\r\n",
      "  n_iter_i = _check_optimize_result(\r\n",
      "\r\u001b[33mEvaluating over 10 folds: 100%[=========================] Time: 0:00:00\u001b[39m\u001b[K\n"
     ]
    },
    {
     "name": "stdout",
     "output_type": "stream",
     "text": [
      "Logistic 10 Folds :\n",
      " [[0.8017241379310345, 0.7945402298850575, 0.7744252873563219, 0.7844827586206897, 0.8129496402877698, 0.7827338129496403, 0.7654676258992805, 0.7597122302158273, 0.7366906474820144, 0.7956834532374101]]\n",
      "\n",
      "\n",
      "\n",
      "import MLJScikitLearnInterface ✔\n"
     ]
    },
    {
     "name": "stderr",
     "output_type": "stream",
     "text": [
      "┌ Info: For silent loading, specify `verbosity=0`. \n",
      "└ @ Main C:\\Users\\Utsav\\.julia\\packages\\MLJModels\\OJDDo\\src\\loading.jl:159\n",
      "┌ Warning: The number and/or types of data arguments do not match what the specified model\n",
      "│ supports. Suppress this type check by specifying `scitype_check_level=0`.\n",
      "│ \n",
      "│ Run `@doc ScikitLearn.KNeighborsClassifier` to learn more about your model's requirements.\n",
      "│ \n",
      "│ Commonly, but non exclusively, supervised models are constructed using the syntax\n",
      "│ `machine(model, X, y)` or `machine(model, X, y, w)` while most other models are\n",
      "│ constructed with `machine(model, X)`.  Here `X` are features, `y` a target, and `w`\n",
      "│ sample or class weights.\n",
      "│ \n",
      "│ In general, data in `machine(model, data...)` is expected to satisfy\n",
      "│ \n",
      "│     scitype(data) <: MLJ.fit_data_scitype(model)\n",
      "│ \n",
      "│ In the present case:\n",
      "│ \n",
      "│ scitype(data) = Tuple{Table{Union{AbstractVector{Continuous}, AbstractVector{Multiclass{6561}}, AbstractVector{Multiclass{4}}, AbstractVector{Multiclass{3}}}}, AbstractVector{Multiclass{2}}}\n",
      "│ \n",
      "│ fit_data_scitype(model) = Tuple{Table{<:AbstractVector{<:Continuous}}, AbstractVector{<:Finite}}\n",
      "└ @ MLJBase C:\\Users\\Utsav\\.julia\\packages\\MLJBase\\WKVEo\\src\\machines.jl:230\n",
      "┌ Info: Creating subsamples from a subset of all rows. \n",
      "└ @ MLJBase C:\\Users\\Utsav\\.julia\\packages\\MLJBase\\WKVEo\\src\\resampling.jl:601\n"
     ]
    },
    {
     "name": "stderr",
     "output_type": "stream",
     "text": [
      "\r\u001b[33mEvaluating over 10 folds:  40%[==========>              ]  ETA: 0:00:00\u001b[39m\u001b[K"
     ]
    },
    {
     "name": "stderr",
     "output_type": "stream",
     "text": [
      "\r\u001b[33mEvaluating over 10 folds:  80%[====================>    ]  ETA: 0:00:00\u001b[39m\u001b[K"
     ]
    },
    {
     "name": "stderr",
     "output_type": "stream",
     "text": [
      "\r\u001b[33mEvaluating over 10 folds: 100%[=========================] Time: 0:00:00\u001b[39m\u001b[K\n"
     ]
    },
    {
     "name": "stdout",
     "output_type": "stream",
     "text": [
      "KNeighbors 10 Folds :\n",
      " [[0.7413793103448276, 0.7772988505747127, 0.7600574712643678, 0.7385057471264368, 0.7654676258992805, 0.7798561151079136, 0.743884892086331, 0.7597122302158273, 0.7309352517985612, 0.7956834532374101]]\n",
      "\n",
      "\n",
      "\n"
     ]
    },
    {
     "name": "stdout",
     "output_type": "stream",
     "text": [
      "import MLJScikitLearnInterface ✔\n"
     ]
    },
    {
     "name": "stderr",
     "output_type": "stream",
     "text": [
      "┌ Info: For silent loading, specify `verbosity=0`. \n",
      "└ @ Main C:\\Users\\Utsav\\.julia\\packages\\MLJModels\\OJDDo\\src\\loading.jl:159\n",
      "┌ Warning: The number and/or types of data arguments do not match what the specified model\n",
      "│ supports. Suppress this type check by specifying `scitype_check_level=0`.\n",
      "│ \n",
      "│ Run `@doc ScikitLearn.AdaBoostClassifier` to learn more about your model's requirements.\n",
      "│ \n",
      "│ Commonly, but non exclusively, supervised models are constructed using the syntax\n",
      "│ `machine(model, X, y)` or `machine(model, X, y, w)` while most other models are\n",
      "│ constructed with `machine(model, X)`.  Here `X` are features, `y` a target, and `w`\n",
      "│ sample or class weights.\n",
      "│ \n",
      "│ In general, data in `machine(model, data...)` is expected to satisfy\n",
      "│ \n",
      "│     scitype(data) <: MLJ.fit_data_scitype(model)\n",
      "│ \n",
      "│ In the present case:\n",
      "│ \n",
      "│ scitype(data) = Tuple{Table{Union{AbstractVector{Continuous}, AbstractVector{Multiclass{6561}}, AbstractVector{Multiclass{4}}, AbstractVector{Multiclass{3}}}}, AbstractVector{Multiclass{2}}}\n",
      "│ \n",
      "│ fit_data_scitype(model) = Tuple{Table{<:AbstractVector{<:Continuous}}, AbstractVector{<:Finite}}\n",
      "└ @ MLJBase C:\\Users\\Utsav\\.julia\\packages\\MLJBase\\WKVEo\\src\\machines.jl:230\n",
      "┌ Info: Creating subsamples from a subset of all rows. \n",
      "└ @ MLJBase C:\\Users\\Utsav\\.julia\\packages\\MLJBase\\WKVEo\\src\\resampling.jl:601\n"
     ]
    },
    {
     "name": "stderr",
     "output_type": "stream",
     "text": [
      "\r\u001b[33mEvaluating over 10 folds:  20%[=====>                   ]  ETA: 0:00:02\u001b[39m\u001b[K"
     ]
    },
    {
     "name": "stderr",
     "output_type": "stream",
     "text": [
      "\r\u001b[33mEvaluating over 10 folds:  30%[=======>                 ]  ETA: 0:00:02\u001b[39m\u001b[K"
     ]
    },
    {
     "name": "stderr",
     "output_type": "stream",
     "text": [
      "\r\u001b[33mEvaluating over 10 folds:  40%[==========>              ]  ETA: 0:00:02\u001b[39m\u001b[K"
     ]
    },
    {
     "name": "stderr",
     "output_type": "stream",
     "text": [
      "\r\u001b[33mEvaluating over 10 folds:  50%[============>            ]  ETA: 0:00:01\u001b[39m\u001b[K"
     ]
    },
    {
     "name": "stderr",
     "output_type": "stream",
     "text": [
      "\r\u001b[33mEvaluating over 10 folds:  60%[===============>         ]  ETA: 0:00:01\u001b[39m\u001b[K"
     ]
    },
    {
     "name": "stderr",
     "output_type": "stream",
     "text": [
      "\r\u001b[33mEvaluating over 10 folds:  70%[=================>       ]  ETA: 0:00:01\u001b[39m\u001b[K"
     ]
    },
    {
     "name": "stderr",
     "output_type": "stream",
     "text": [
      "\r\u001b[33mEvaluating over 10 folds:  80%[====================>    ]  ETA: 0:00:01\u001b[39m\u001b[K"
     ]
    },
    {
     "name": "stderr",
     "output_type": "stream",
     "text": [
      "\r\u001b[33mEvaluating over 10 folds:  90%[======================>  ]  ETA: 0:00:00\u001b[39m\u001b[K"
     ]
    },
    {
     "name": "stderr",
     "output_type": "stream",
     "text": [
      "\r\u001b[33mEvaluating over 10 folds: 100%[=========================] Time: 0:00:02\u001b[39m\u001b[K\n"
     ]
    },
    {
     "name": "stdout",
     "output_type": "stream",
     "text": [
      "AdaBoost 10 Folds :\n",
      " [[0.7844827586206897, 0.7916666666666666, 0.8175287356321839, 0.7959770114942528, 0.8129496402877698, 0.8086330935251799, 0.7654676258992805, 0.7899280575539569, 0.7496402877697842, 0.8071942446043165]]\n",
      "\n",
      "\n",
      "\n",
      "import MLJScikitLearnInterface ✔\n"
     ]
    },
    {
     "name": "stderr",
     "output_type": "stream",
     "text": [
      "┌ Info: For silent loading, specify `verbosity=0`. \n",
      "└ @ Main C:\\Users\\Utsav\\.julia\\packages\\MLJModels\\OJDDo\\src\\loading.jl:159\n",
      "┌ Warning: The number and/or types of data arguments do not match what the specified model\n",
      "│ supports. Suppress this type check by specifying `scitype_check_level=0`.\n",
      "│ \n",
      "│ Run `@doc ScikitLearn.GradientBoostingClassifier` to learn more about your model's requirements.\n",
      "│ \n",
      "│ Commonly, but non exclusively, supervised models are constructed using the syntax\n",
      "│ `machine(model, X, y)` or `machine(model, X, y, w)` while most other models are\n",
      "│ constructed with `machine(model, X)`.  Here `X` are features, `y` a target, and `w`\n",
      "│ sample or class weights.\n",
      "│ \n",
      "│ In general, data in `machine(model, data...)` is expected to satisfy\n",
      "│ \n",
      "│     scitype(data) <: MLJ.fit_data_scitype(model)\n",
      "│ \n",
      "│ In the present case:\n",
      "│ \n",
      "│ scitype(data) = Tuple{Table{Union{AbstractVector{Continuous}, AbstractVector{Multiclass{6561}}, AbstractVector{Multiclass{4}}, AbstractVector{Multiclass{3}}}}, AbstractVector{Multiclass{2}}}\n",
      "│ \n",
      "│ fit_data_scitype(model) = Tuple{Table{<:AbstractVector{<:Continuous}}, AbstractVector{<:Finite}}\n",
      "└ @ MLJBase C:\\Users\\Utsav\\.julia\\packages\\MLJBase\\WKVEo\\src\\machines.jl:230\n"
     ]
    },
    {
     "name": "stderr",
     "output_type": "stream",
     "text": [
      "┌ Info: Creating subsamples from a subset of all rows. \n",
      "└ @ MLJBase C:\\Users\\Utsav\\.julia\\packages\\MLJBase\\WKVEo\\src\\resampling.jl:601\n",
      "C:\\Users\\Utsav\\.julia\\conda\\3\\lib\\site-packages\\sklearn\\utils\\deprecation.py:101: FutureWarning: Attribute `loss_` was deprecated in version 1.1 and will be removed in 1.3.\r\n",
      "  warnings.warn(msg, category=FutureWarning)\r\n",
      "C:\\Users\\Utsav\\.julia\\conda\\3\\lib\\site-packages\\sklearn\\utils\\deprecation.py:101: FutureWarning: Attribute `loss_` was deprecated in version 1.1 and will be removed in 1.3.\r\n",
      "  warnings.warn(msg, category=FutureWarning)\r\n",
      "\r\u001b[33mEvaluating over 10 folds:  20%[=====>                   ]  ETA: 0:00:07\u001b[39m\u001b[K"
     ]
    },
    {
     "name": "stderr",
     "output_type": "stream",
     "text": [
      "C:\\Users\\Utsav\\.julia\\conda\\3\\lib\\site-packages\\sklearn\\utils\\deprecation.py:101: FutureWarning: Attribute `loss_` was deprecated in version 1.1 and will be removed in 1.3.\r\n",
      "  warnings.warn(msg, category=FutureWarning)\r\n",
      "\r\u001b[33mEvaluating over 10 folds:  30%[=======>                 ]  ETA: 0:00:06\u001b[39m\u001b[K"
     ]
    },
    {
     "name": "stderr",
     "output_type": "stream",
     "text": [
      "C:\\Users\\Utsav\\.julia\\conda\\3\\lib\\site-packages\\sklearn\\utils\\deprecation.py:101: FutureWarning: Attribute `loss_` was deprecated in version 1.1 and will be removed in 1.3.\r\n",
      "  warnings.warn(msg, category=FutureWarning)\r\n",
      "\r\u001b[33mEvaluating over 10 folds:  40%[==========>              ]  ETA: 0:00:05\u001b[39m\u001b[K"
     ]
    },
    {
     "name": "stderr",
     "output_type": "stream",
     "text": [
      "C:\\Users\\Utsav\\.julia\\conda\\3\\lib\\site-packages\\sklearn\\utils\\deprecation.py:101: FutureWarning: Attribute `loss_` was deprecated in version 1.1 and will be removed in 1.3.\r\n",
      "  warnings.warn(msg, category=FutureWarning)\r\n",
      "\r\u001b[33mEvaluating over 10 folds:  50%[============>            ]  ETA: 0:00:05\u001b[39m\u001b[K"
     ]
    },
    {
     "name": "stderr",
     "output_type": "stream",
     "text": [
      "C:\\Users\\Utsav\\.julia\\conda\\3\\lib\\site-packages\\sklearn\\utils\\deprecation.py:101: FutureWarning: Attribute `loss_` was deprecated in version 1.1 and will be removed in 1.3.\r\n",
      "  warnings.warn(msg, category=FutureWarning)\r\n",
      "\r\u001b[33mEvaluating over 10 folds:  60%[===============>         ]  ETA: 0:00:04\u001b[39m\u001b[K"
     ]
    },
    {
     "name": "stderr",
     "output_type": "stream",
     "text": [
      "C:\\Users\\Utsav\\.julia\\conda\\3\\lib\\site-packages\\sklearn\\utils\\deprecation.py:101: FutureWarning: Attribute `loss_` was deprecated in version 1.1 and will be removed in 1.3.\r\n",
      "  warnings.warn(msg, category=FutureWarning)\r\n",
      "\r\u001b[33mEvaluating over 10 folds:  70%[=================>       ]  ETA: 0:00:03\u001b[39m\u001b[K"
     ]
    },
    {
     "name": "stderr",
     "output_type": "stream",
     "text": [
      "C:\\Users\\Utsav\\.julia\\conda\\3\\lib\\site-packages\\sklearn\\utils\\deprecation.py:101: FutureWarning: Attribute `loss_` was deprecated in version 1.1 and will be removed in 1.3.\r\n",
      "  warnings.warn(msg, category=FutureWarning)\r\n",
      "\r\u001b[33mEvaluating over 10 folds:  80%[====================>    ]  ETA: 0:00:02\u001b[39m\u001b[K"
     ]
    },
    {
     "name": "stderr",
     "output_type": "stream",
     "text": [
      "C:\\Users\\Utsav\\.julia\\conda\\3\\lib\\site-packages\\sklearn\\utils\\deprecation.py:101: FutureWarning: Attribute `loss_` was deprecated in version 1.1 and will be removed in 1.3.\r\n",
      "  warnings.warn(msg, category=FutureWarning)\r\n",
      "\r\u001b[33mEvaluating over 10 folds:  90%[======================>  ]  ETA: 0:00:01\u001b[39m\u001b[K"
     ]
    },
    {
     "name": "stderr",
     "output_type": "stream",
     "text": [
      "C:\\Users\\Utsav\\.julia\\conda\\3\\lib\\site-packages\\sklearn\\utils\\deprecation.py:101: FutureWarning: Attribute `loss_` was deprecated in version 1.1 and will be removed in 1.3.\r\n",
      "  warnings.warn(msg, category=FutureWarning)\r\n",
      "\r\u001b[33mEvaluating over 10 folds: 100%[=========================] Time: 0:00:08\u001b[39m\u001b[K\n"
     ]
    },
    {
     "name": "stdout",
     "output_type": "stream",
     "text": [
      "GradientBoosting 10 Folds :\n",
      " [[0.7959770114942528, 0.7974137931034483, 0.7988505747126436, 0.7959770114942528, 0.8287769784172662, 0.8, 0.7741007194244605, 0.7870503597122303, 0.743884892086331, 0.823021582733813]]\n",
      "\n",
      "\n",
      "\n"
     ]
    },
    {
     "data": {
      "text/plain": [
       "(Dict{Any, Any}(\"RandomForest\" => 0.9749784296807593, \"KNeighbors\" => 0.8143514524014955, \"DecisionTree\" => 0.9744032211676733, \"ExtraTrees\" => 0.9805867126833477, \"AdaBoost\" => 0.7952257693413862, \"Logistic\" => 0.7766752947943629, \"GradientBoosting\" => 0.8120506183491516), Dict{Any, Any}(\"RandomForest\" => 0.7929844738355376, \"KNeighbors\" => 0.750431282346176, \"DecisionTree\" => 0.7366302472685451, \"ExtraTrees\" => 0.78953421506613, \"AdaBoost\" => 0.7935595169637722, \"Logistic\" => 0.7763082231167338, \"GradientBoosting\" => 0.8050603795284647))"
      ]
     },
     "metadata": {},
     "output_type": "display_data"
    }
   ],
   "source": [
    "function predict(model,test,sub)\n",
    "    y_sub = MLJ.predict(model,test)\n",
    "    sub[!,TARGET] = map(x -> x ? \"True\" : \"False\",pdf.(y_sub,true) .>= 0.5)\n",
    "    sub\n",
    "end\n",
    "\n",
    "function evaluate(X_train,y_train,test,sub)\n",
    "    train_results = Dict()\n",
    "    test_results = Dict()\n",
    "\n",
    "    all_models = [\n",
    "        \"DecisionTree\",\n",
    "        \"RandomForest\",\n",
    "        \"ExtraTrees\",\n",
    "        \"Logistic\",\n",
    "        \"KNeighbors\",\n",
    "        \"AdaBoost\",\n",
    "        \"GradientBoosting\"\n",
    "    ]\n",
    "\n",
    "    # train_idx, test_idx = partition_data(y_train)\n",
    "    # y_train = y_train[!,TARGET]\n",
    "\n",
    "    for model_name in all_models \n",
    "        model = setup_model(model_name,X_train,y_train)\n",
    "        eval_results=evaluate!(model,rows=train_idx, resampling=CV(nfolds=10,shuffle=true,rng=RANDOM_STATE), measures=[MLJ.accuracy],operation=predict_mode)\n",
    "        test_results[model_name] = MLJ.accuracy(predict_mode(model, rows=test_idx), y_train[test_idx])\n",
    "        train_results[model_name] = MLJ.accuracy(predict_mode(model, rows=train_idx), y_train[train_idx])\n",
    "        println(\"$model_name 10 Folds :\\n $(eval_results.per_fold)\\n\\n\\n\")\n",
    "        sub = predict(model,test,sub)\n",
    "        CSV.write(\"../output/$model_name.csv\",sub)\n",
    "    end\n",
    "\n",
    "    train_results,test_results\n",
    "end\n",
    "\n",
    "train_results,test_results = evaluate(X_train,y_train,test,sub)"
   ]
  },
  {
   "cell_type": "code",
   "execution_count": 59,
   "metadata": {},
   "outputs": [
    {
     "data": {
      "text/plain": [
       "7-element Vector{Pair{Any, Any}}:\n",
       "     \"DecisionTree\" => 0.7366302472685451\n",
       "       \"KNeighbors\" => 0.750431282346176\n",
       "         \"Logistic\" => 0.7763082231167338\n",
       "       \"ExtraTrees\" => 0.78953421506613\n",
       "     \"RandomForest\" => 0.7929844738355376\n",
       "         \"AdaBoost\" => 0.7935595169637722\n",
       " \"GradientBoosting\" => 0.8050603795284647"
      ]
     },
     "metadata": {},
     "output_type": "display_data"
    }
   ],
   "source": [
    "sort(collect(test_results),by=x->x[2])"
   ]
  },
  {
   "cell_type": "code",
   "execution_count": 60,
   "metadata": {},
   "outputs": [
    {
     "data": {
      "text/plain": [
       "7-element Vector{Pair{Any, Any}}:\n",
       "         \"Logistic\" => 0.7766752947943629\n",
       "         \"AdaBoost\" => 0.7952257693413862\n",
       " \"GradientBoosting\" => 0.8120506183491516\n",
       "       \"KNeighbors\" => 0.8143514524014955\n",
       "     \"DecisionTree\" => 0.9744032211676733\n",
       "     \"RandomForest\" => 0.9749784296807593\n",
       "       \"ExtraTrees\" => 0.9805867126833477"
      ]
     },
     "metadata": {},
     "output_type": "display_data"
    }
   ],
   "source": [
    "sort(collect(train_results),by=x->x[2])"
   ]
  },
  {
   "cell_type": "code",
   "execution_count": null,
   "metadata": {},
   "outputs": [],
   "source": []
  }
 ],
 "metadata": {
  "kernelspec": {
   "display_name": "Julia 1.8.4",
   "language": "julia",
   "name": "julia-1.8"
  },
  "language_info": {
   "file_extension": ".jl",
   "mimetype": "application/julia",
   "name": "julia",
   "version": "1.8.4"
  },
  "orig_nbformat": 4
 },
 "nbformat": 4,
 "nbformat_minor": 2
}
